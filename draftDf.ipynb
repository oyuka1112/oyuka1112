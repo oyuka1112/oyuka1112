{
  "nbformat": 4,
  "nbformat_minor": 0,
  "metadata": {
    "colab": {
      "name": "draftDf.ipynb",
      "provenance": [],
      "collapsed_sections": [],
      "authorship_tag": "ABX9TyOWQaz25PRPb0F+kCYuhXEp",
      "include_colab_link": true
    },
    "kernelspec": {
      "name": "python3",
      "display_name": "Python 3"
    },
    "language_info": {
      "name": "python"
    }
  },
  "cells": [
    {
      "cell_type": "markdown",
      "metadata": {
        "id": "view-in-github",
        "colab_type": "text"
      },
      "source": [
        "<a href=\"https://colab.research.google.com/github/oyuka1112/oyuka1112/blob/main/draftDf.ipynb\" target=\"_parent\"><img src=\"https://colab.research.google.com/assets/colab-badge.svg\" alt=\"Open In Colab\"/></a>"
      ]
    },
    {
      "cell_type": "code",
      "metadata": {
        "id": "YdNLg2XqUd22"
      },
      "source": [
        "import pandas as pd\n",
        "from matplotlib import pyplot as plt"
      ],
      "execution_count": 2,
      "outputs": []
    },
    {
      "cell_type": "code",
      "metadata": {
        "id": "ZYr86rEBUhy9"
      },
      "source": [
        "#import all the files\n",
        "contacts = pd.read_excel(r'Df_contacts.txt.xlsx')  #.set_index(\"CONT_ID\") #set index as ID \n",
        "mails= pd.read_excel(r'Df_mails.xlsx')  #.set_index(\"MAIL_ID\")\n",
        "responses= pd.read_excel(r'Df_responses.xlsx')  #.set_index(\"RESPONSE_ID\")\n",
        "conversions= pd.read_excel(r'Df_conversion.xlsx')  #.set_index(\"CONV_ID\")"
      ],
      "execution_count": 244,
      "outputs": []
    },
    {
      "cell_type": "code",
      "metadata": {
        "colab": {
          "base_uri": "https://localhost:8080/",
          "height": 204
        },
        "id": "ih8ZuLRQDz8i",
        "outputId": "bfb580bb-3017-41d6-eaf5-750123299406"
      },
      "source": [
        "contacts.tail()\n"
      ],
      "execution_count": 199,
      "outputs": [
        {
          "output_type": "execute_result",
          "data": {
            "text/html": [
              "<div>\n",
              "<style scoped>\n",
              "    .dataframe tbody tr th:only-of-type {\n",
              "        vertical-align: middle;\n",
              "    }\n",
              "\n",
              "    .dataframe tbody tr th {\n",
              "        vertical-align: top;\n",
              "    }\n",
              "\n",
              "    .dataframe thead th {\n",
              "        text-align: right;\n",
              "    }\n",
              "</style>\n",
              "<table border=\"1\" class=\"dataframe\">\n",
              "  <thead>\n",
              "    <tr style=\"text-align: right;\">\n",
              "      <th></th>\n",
              "      <th>CONT_ID</th>\n",
              "      <th>NAME</th>\n",
              "      <th>CITY</th>\n",
              "      <th>STATE</th>\n",
              "      <th>ZIP5</th>\n",
              "    </tr>\n",
              "  </thead>\n",
              "  <tbody>\n",
              "    <tr>\n",
              "      <th>195</th>\n",
              "      <td>196</td>\n",
              "      <td>SHAWN LITTLE</td>\n",
              "      <td>MOORESTOWN</td>\n",
              "      <td>NY</td>\n",
              "      <td>85268</td>\n",
              "    </tr>\n",
              "    <tr>\n",
              "      <th>196</th>\n",
              "      <td>197</td>\n",
              "      <td>ALBIN NELSON</td>\n",
              "      <td>ORANGEBURG</td>\n",
              "      <td>IA</td>\n",
              "      <td>93704</td>\n",
              "    </tr>\n",
              "    <tr>\n",
              "      <th>197</th>\n",
              "      <td>198</td>\n",
              "      <td>STEVE GOEREE</td>\n",
              "      <td>SOUTHLAKE</td>\n",
              "      <td>AL</td>\n",
              "      <td>50125</td>\n",
              "    </tr>\n",
              "    <tr>\n",
              "      <th>198</th>\n",
              "      <td>199</td>\n",
              "      <td>JOAN BURILL</td>\n",
              "      <td>CARLSBAD</td>\n",
              "      <td>FL</td>\n",
              "      <td>21401</td>\n",
              "    </tr>\n",
              "    <tr>\n",
              "      <th>199</th>\n",
              "      <td>200</td>\n",
              "      <td>JOHN MCNULTY</td>\n",
              "      <td>LULA</td>\n",
              "      <td>FL</td>\n",
              "      <td>77338</td>\n",
              "    </tr>\n",
              "  </tbody>\n",
              "</table>\n",
              "</div>"
            ],
            "text/plain": [
              "     CONT_ID          NAME        CITY STATE   ZIP5\n",
              "195      196  SHAWN LITTLE  MOORESTOWN    NY  85268\n",
              "196      197  ALBIN NELSON  ORANGEBURG    IA  93704\n",
              "197      198  STEVE GOEREE   SOUTHLAKE    AL  50125\n",
              "198      199   JOAN BURILL    CARLSBAD    FL  21401\n",
              "199      200  JOHN MCNULTY        LULA    FL  77338"
            ]
          },
          "metadata": {},
          "execution_count": 199
        }
      ]
    },
    {
      "cell_type": "code",
      "metadata": {
        "colab": {
          "base_uri": "https://localhost:8080/",
          "height": 204
        },
        "id": "08xA8LFOD2qj",
        "outputId": "b860132c-8810-477c-9d5e-a5ef8ba5596b"
      },
      "source": [
        "mails.tail()"
      ],
      "execution_count": 333,
      "outputs": [
        {
          "output_type": "execute_result",
          "data": {
            "text/html": [
              "<div>\n",
              "<style scoped>\n",
              "    .dataframe tbody tr th:only-of-type {\n",
              "        vertical-align: middle;\n",
              "    }\n",
              "\n",
              "    .dataframe tbody tr th {\n",
              "        vertical-align: top;\n",
              "    }\n",
              "\n",
              "    .dataframe thead th {\n",
              "        text-align: right;\n",
              "    }\n",
              "</style>\n",
              "<table border=\"1\" class=\"dataframe\">\n",
              "  <thead>\n",
              "    <tr style=\"text-align: right;\">\n",
              "      <th></th>\n",
              "      <th>MAIL_ID</th>\n",
              "      <th>CONT_ID</th>\n",
              "      <th>MAIL_MONTH</th>\n",
              "      <th>MAIL_DATE</th>\n",
              "    </tr>\n",
              "  </thead>\n",
              "  <tbody>\n",
              "    <tr>\n",
              "      <th>295</th>\n",
              "      <td>296</td>\n",
              "      <td>4</td>\n",
              "      <td>10</td>\n",
              "      <td>2015-10-23</td>\n",
              "    </tr>\n",
              "    <tr>\n",
              "      <th>296</th>\n",
              "      <td>297</td>\n",
              "      <td>41</td>\n",
              "      <td>5</td>\n",
              "      <td>2017-05-14</td>\n",
              "    </tr>\n",
              "    <tr>\n",
              "      <th>297</th>\n",
              "      <td>298</td>\n",
              "      <td>49</td>\n",
              "      <td>12</td>\n",
              "      <td>2016-12-16</td>\n",
              "    </tr>\n",
              "    <tr>\n",
              "      <th>298</th>\n",
              "      <td>299</td>\n",
              "      <td>120</td>\n",
              "      <td>7</td>\n",
              "      <td>2018-07-21</td>\n",
              "    </tr>\n",
              "    <tr>\n",
              "      <th>299</th>\n",
              "      <td>300</td>\n",
              "      <td>150</td>\n",
              "      <td>12</td>\n",
              "      <td>2018-12-22</td>\n",
              "    </tr>\n",
              "  </tbody>\n",
              "</table>\n",
              "</div>"
            ],
            "text/plain": [
              "     MAIL_ID  CONT_ID  MAIL_MONTH  MAIL_DATE\n",
              "295      296        4          10 2015-10-23\n",
              "296      297       41           5 2017-05-14\n",
              "297      298       49          12 2016-12-16\n",
              "298      299      120           7 2018-07-21\n",
              "299      300      150          12 2018-12-22"
            ]
          },
          "metadata": {},
          "execution_count": 333
        }
      ]
    },
    {
      "cell_type": "code",
      "metadata": {
        "colab": {
          "base_uri": "https://localhost:8080/",
          "height": 204
        },
        "id": "y9CjKlLeD6E3",
        "outputId": "02be06fd-55a7-4bae-efab-36064d8a495e"
      },
      "source": [
        "responses.tail()"
      ],
      "execution_count": 65,
      "outputs": [
        {
          "output_type": "execute_result",
          "data": {
            "text/html": [
              "<div>\n",
              "<style scoped>\n",
              "    .dataframe tbody tr th:only-of-type {\n",
              "        vertical-align: middle;\n",
              "    }\n",
              "\n",
              "    .dataframe tbody tr th {\n",
              "        vertical-align: top;\n",
              "    }\n",
              "\n",
              "    .dataframe thead th {\n",
              "        text-align: right;\n",
              "    }\n",
              "</style>\n",
              "<table border=\"1\" class=\"dataframe\">\n",
              "  <thead>\n",
              "    <tr style=\"text-align: right;\">\n",
              "      <th></th>\n",
              "      <th>RESPONSE_ID</th>\n",
              "      <th>MAIL_ID</th>\n",
              "      <th>RESP_DATE</th>\n",
              "    </tr>\n",
              "  </thead>\n",
              "  <tbody>\n",
              "    <tr>\n",
              "      <th>195</th>\n",
              "      <td>196</td>\n",
              "      <td>234</td>\n",
              "      <td>2019-04-22</td>\n",
              "    </tr>\n",
              "    <tr>\n",
              "      <th>196</th>\n",
              "      <td>197</td>\n",
              "      <td>272</td>\n",
              "      <td>2019-03-18</td>\n",
              "    </tr>\n",
              "    <tr>\n",
              "      <th>197</th>\n",
              "      <td>198</td>\n",
              "      <td>18</td>\n",
              "      <td>2019-12-18</td>\n",
              "    </tr>\n",
              "    <tr>\n",
              "      <th>198</th>\n",
              "      <td>199</td>\n",
              "      <td>198</td>\n",
              "      <td>2019-12-17</td>\n",
              "    </tr>\n",
              "    <tr>\n",
              "      <th>199</th>\n",
              "      <td>200</td>\n",
              "      <td>47</td>\n",
              "      <td>2019-03-18</td>\n",
              "    </tr>\n",
              "  </tbody>\n",
              "</table>\n",
              "</div>"
            ],
            "text/plain": [
              "     RESPONSE_ID  MAIL_ID  RESP_DATE\n",
              "195          196      234 2019-04-22\n",
              "196          197      272 2019-03-18\n",
              "197          198       18 2019-12-18\n",
              "198          199      198 2019-12-17\n",
              "199          200       47 2019-03-18"
            ]
          },
          "metadata": {},
          "execution_count": 65
        }
      ]
    },
    {
      "cell_type": "code",
      "metadata": {
        "colab": {
          "base_uri": "https://localhost:8080/",
          "height": 204
        },
        "id": "b3YjV90lED67",
        "outputId": "6907dcb9-fc51-4f4c-cb56-74627f36c9f2"
      },
      "source": [
        "conversions.tail()"
      ],
      "execution_count": 71,
      "outputs": [
        {
          "output_type": "execute_result",
          "data": {
            "text/html": [
              "<div>\n",
              "<style scoped>\n",
              "    .dataframe tbody tr th:only-of-type {\n",
              "        vertical-align: middle;\n",
              "    }\n",
              "\n",
              "    .dataframe tbody tr th {\n",
              "        vertical-align: top;\n",
              "    }\n",
              "\n",
              "    .dataframe thead th {\n",
              "        text-align: right;\n",
              "    }\n",
              "</style>\n",
              "<table border=\"1\" class=\"dataframe\">\n",
              "  <thead>\n",
              "    <tr style=\"text-align: right;\">\n",
              "      <th></th>\n",
              "      <th>CONV_ID</th>\n",
              "      <th>RESPONSE_ID</th>\n",
              "      <th>CONV_DATE</th>\n",
              "    </tr>\n",
              "  </thead>\n",
              "  <tbody>\n",
              "    <tr>\n",
              "      <th>45</th>\n",
              "      <td>46</td>\n",
              "      <td>170</td>\n",
              "      <td>2020-06-01</td>\n",
              "    </tr>\n",
              "    <tr>\n",
              "      <th>46</th>\n",
              "      <td>47</td>\n",
              "      <td>24</td>\n",
              "      <td>2020-11-08</td>\n",
              "    </tr>\n",
              "    <tr>\n",
              "      <th>47</th>\n",
              "      <td>48</td>\n",
              "      <td>78</td>\n",
              "      <td>2020-07-24</td>\n",
              "    </tr>\n",
              "    <tr>\n",
              "      <th>48</th>\n",
              "      <td>49</td>\n",
              "      <td>182</td>\n",
              "      <td>2020-03-03</td>\n",
              "    </tr>\n",
              "    <tr>\n",
              "      <th>49</th>\n",
              "      <td>50</td>\n",
              "      <td>43</td>\n",
              "      <td>2020-12-26</td>\n",
              "    </tr>\n",
              "  </tbody>\n",
              "</table>\n",
              "</div>"
            ],
            "text/plain": [
              "    CONV_ID  RESPONSE_ID  CONV_DATE\n",
              "45       46          170 2020-06-01\n",
              "46       47           24 2020-11-08\n",
              "47       48           78 2020-07-24\n",
              "48       49          182 2020-03-03\n",
              "49       50           43 2020-12-26"
            ]
          },
          "metadata": {},
          "execution_count": 71
        }
      ]
    },
    {
      "cell_type": "code",
      "metadata": {
        "colab": {
          "base_uri": "https://localhost:8080/"
        },
        "id": "anRg8YdIYjX6",
        "outputId": "07005041-a60f-4894-ba3b-51353f86069c"
      },
      "source": [
        "mails.sort_values(by = \"MAIL_DATE\", axis = 0 )\n",
        "mails['CONT_ID'].nunique"
      ],
      "execution_count": 335,
      "outputs": [
        {
          "output_type": "execute_result",
          "data": {
            "text/plain": [
              "<bound method IndexOpsMixin.nunique of 0       35\n",
              "1       50\n",
              "2      148\n",
              "3      121\n",
              "4       28\n",
              "      ... \n",
              "295      4\n",
              "296     41\n",
              "297     49\n",
              "298    120\n",
              "299    150\n",
              "Name: CONT_ID, Length: 300, dtype: int64>"
            ]
          },
          "metadata": {},
          "execution_count": 335
        }
      ]
    },
    {
      "cell_type": "code",
      "metadata": {
        "id": "P6diDRN3bkZp"
      },
      "source": [
        "df1 = pd.merge(conversions, responses  , on=['RESPONSE_ID'], how='inner').sort_values('RESPONSE_ID')\n",
        "# df1 = conversions.set_index('RESPONSE_ID').join(responses.set_index('RESPONSE_ID')).sort_index()"
      ],
      "execution_count": 45,
      "outputs": []
    },
    {
      "cell_type": "code",
      "metadata": {
        "id": "1eiz7y6wG-Vl"
      },
      "source": [
        "df2 = pd.merge(df1, mails  , on=['MAIL_ID'], how='inner').sort_values('MAIL_ID')\n",
        "df3 = pd.merge(df2, contacts  , on=['CONT_ID'], how='inner').sort_values(\"CONT_ID\").sort_index()\n",
        "#df2 = df1.set_index('MAIL_ID').join(mails.set_index('MAIL_ID')).sort_index()\n",
        "df4 = df3['CONT_ID'].drop_duplicates()"
      ],
      "execution_count": 46,
      "outputs": []
    },
    {
      "cell_type": "code",
      "metadata": {
        "id": "eYNdbwMdZbRh"
      },
      "source": [
        "df4 = df4.drop(columns = ['CONV_ID', 'RESPONSE_ID', 'MAIL_ID', 'RESP_DATE', 'CONT_ID', 'MAIL_MONTH', 'CITY', 'STATE', 'ZIP5'])"
      ],
      "execution_count": 66,
      "outputs": []
    },
    {
      "cell_type": "code",
      "metadata": {
        "colab": {
          "base_uri": "https://localhost:8080/",
          "height": 204
        },
        "id": "HBtkby-wtrsa",
        "outputId": "2bdc82cc-7e81-4afb-c6ea-2d8cd21db51a"
      },
      "source": [
        "df4.tail()"
      ],
      "execution_count": 73,
      "outputs": [
        {
          "output_type": "execute_result",
          "data": {
            "text/html": [
              "<div>\n",
              "<style scoped>\n",
              "    .dataframe tbody tr th:only-of-type {\n",
              "        vertical-align: middle;\n",
              "    }\n",
              "\n",
              "    .dataframe tbody tr th {\n",
              "        vertical-align: top;\n",
              "    }\n",
              "\n",
              "    .dataframe thead th {\n",
              "        text-align: right;\n",
              "    }\n",
              "</style>\n",
              "<table border=\"1\" class=\"dataframe\">\n",
              "  <thead>\n",
              "    <tr style=\"text-align: right;\">\n",
              "      <th></th>\n",
              "      <th>CONV_DATE</th>\n",
              "      <th>MAIL_DATE</th>\n",
              "      <th>NAME</th>\n",
              "    </tr>\n",
              "  </thead>\n",
              "  <tbody>\n",
              "    <tr>\n",
              "      <th>45</th>\n",
              "      <td>2020-03-26</td>\n",
              "      <td>2015-03-19</td>\n",
              "      <td>ERNESTO MATHEWS</td>\n",
              "    </tr>\n",
              "    <tr>\n",
              "      <th>46</th>\n",
              "      <td>2020-03-03</td>\n",
              "      <td>2015-10-07</td>\n",
              "      <td>PING RENGA</td>\n",
              "    </tr>\n",
              "    <tr>\n",
              "      <th>47</th>\n",
              "      <td>2020-11-28</td>\n",
              "      <td>2018-06-08</td>\n",
              "      <td>MICHAEL RAUB</td>\n",
              "    </tr>\n",
              "    <tr>\n",
              "      <th>48</th>\n",
              "      <td>2020-05-04</td>\n",
              "      <td>2015-04-26</td>\n",
              "      <td>J SOLIS</td>\n",
              "    </tr>\n",
              "    <tr>\n",
              "      <th>49</th>\n",
              "      <td>2020-05-03</td>\n",
              "      <td>2018-12-22</td>\n",
              "      <td>MARIA COYLE</td>\n",
              "    </tr>\n",
              "  </tbody>\n",
              "</table>\n",
              "</div>"
            ],
            "text/plain": [
              "    CONV_DATE  MAIL_DATE             NAME\n",
              "45 2020-03-26 2015-03-19  ERNESTO MATHEWS\n",
              "46 2020-03-03 2015-10-07       PING RENGA\n",
              "47 2020-11-28 2018-06-08     MICHAEL RAUB\n",
              "48 2020-05-04 2015-04-26          J SOLIS\n",
              "49 2020-05-03 2018-12-22      MARIA COYLE"
            ]
          },
          "metadata": {},
          "execution_count": 73
        }
      ]
    },
    {
      "cell_type": "code",
      "metadata": {
        "id": "hfmA8TnSxLfc"
      },
      "source": [
        "#Ex 8\n",
        "names = contacts['NAME']\n",
        "names = names.to_frame()\n",
        "names = names['NAME'].str.split(',', expand = True).add_prefix('NAME')\n",
        "names1 = names['NAME0'].str.split(',', expand = True).add_prefix('NAME')\n",
        "contacts['FIRST NAME'] = names1['NAME0'].str.split().str[0].astype(str, errors='ignore')\n",
        "contacts['LAST NAME'] = names1['NAME0'].str.split().str[-1].astype(str, errors='ignore')\n",
        "contacts['LAST NAME'] = contacts['LAST NAME'].str.split('-').str[-1].astype(str, errors='ignore')"
      ],
      "execution_count": 246,
      "outputs": []
    },
    {
      "cell_type": "code",
      "metadata": {
        "id": "1rNfunSGIytA"
      },
      "source": [
        "# names = names.drop('NAME1', axis = 1)"
      ],
      "execution_count": 236,
      "outputs": []
    },
    {
      "cell_type": "code",
      "metadata": {
        "id": "ylCfwOzDZhVA"
      },
      "source": [
        "# contacts.rename(columns={0: \"NAME\"}).drop(columns = 1)\n",
        "# names = names.rename(columns={'NAME0': \"NAME\"})\n",
        "# names = names.drop(columns = 'NAME', axis = 1)\n",
        "# names"
      ],
      "execution_count": 245,
      "outputs": []
    },
    {
      "cell_type": "code",
      "metadata": {
        "colab": {
          "base_uri": "https://localhost:8080/",
          "height": 266
        },
        "id": "bYhVk7f9BZvS",
        "outputId": "0c7ea630-ef02-4dcd-8376-ced1648a2110"
      },
      "source": [
        "# Ex 9\n",
        "# contacts_only_MD = contacts[contacts.STATE =='MD']\n",
        "# contacts_only_MD\n",
        "contacts.loc[contacts.STATE == 'MD']"
      ],
      "execution_count": 41,
      "outputs": [
        {
          "output_type": "execute_result",
          "data": {
            "text/html": [
              "<div>\n",
              "<style scoped>\n",
              "    .dataframe tbody tr th:only-of-type {\n",
              "        vertical-align: middle;\n",
              "    }\n",
              "\n",
              "    .dataframe tbody tr th {\n",
              "        vertical-align: top;\n",
              "    }\n",
              "\n",
              "    .dataframe thead th {\n",
              "        text-align: right;\n",
              "    }\n",
              "</style>\n",
              "<table border=\"1\" class=\"dataframe\">\n",
              "  <thead>\n",
              "    <tr style=\"text-align: right;\">\n",
              "      <th></th>\n",
              "      <th>CONT_ID</th>\n",
              "      <th>NAME</th>\n",
              "      <th>CITY</th>\n",
              "      <th>STATE</th>\n",
              "      <th>ZIP5</th>\n",
              "    </tr>\n",
              "  </thead>\n",
              "  <tbody>\n",
              "    <tr>\n",
              "      <th>57</th>\n",
              "      <td>58</td>\n",
              "      <td>JOE COVEY LANDERS</td>\n",
              "      <td>URBANDALE</td>\n",
              "      <td>MD</td>\n",
              "      <td>11801</td>\n",
              "    </tr>\n",
              "    <tr>\n",
              "      <th>120</th>\n",
              "      <td>121</td>\n",
              "      <td>ROBERT LUNDGREN</td>\n",
              "      <td>SHAWNEE</td>\n",
              "      <td>MD</td>\n",
              "      <td>23227</td>\n",
              "    </tr>\n",
              "    <tr>\n",
              "      <th>125</th>\n",
              "      <td>126</td>\n",
              "      <td>PATRICK STALLINGS</td>\n",
              "      <td>CHARLOTTE</td>\n",
              "      <td>MD</td>\n",
              "      <td>5476</td>\n",
              "    </tr>\n",
              "    <tr>\n",
              "      <th>162</th>\n",
              "      <td>163</td>\n",
              "      <td>MICHAEL HOUCK</td>\n",
              "      <td>SOUTHAVEN</td>\n",
              "      <td>MD</td>\n",
              "      <td>11729</td>\n",
              "    </tr>\n",
              "    <tr>\n",
              "      <th>164</th>\n",
              "      <td>165</td>\n",
              "      <td>JAMES HEITZ</td>\n",
              "      <td>JENKS</td>\n",
              "      <td>MD</td>\n",
              "      <td>93727</td>\n",
              "    </tr>\n",
              "    <tr>\n",
              "      <th>184</th>\n",
              "      <td>185</td>\n",
              "      <td>JOE ALERS</td>\n",
              "      <td>NEW BERN</td>\n",
              "      <td>MD</td>\n",
              "      <td>3031</td>\n",
              "    </tr>\n",
              "    <tr>\n",
              "      <th>185</th>\n",
              "      <td>186</td>\n",
              "      <td>USA PEGORS</td>\n",
              "      <td>EL DORADO</td>\n",
              "      <td>MD</td>\n",
              "      <td>97504</td>\n",
              "    </tr>\n",
              "  </tbody>\n",
              "</table>\n",
              "</div>"
            ],
            "text/plain": [
              "     CONT_ID               NAME       CITY STATE   ZIP5\n",
              "57        58  JOE COVEY LANDERS  URBANDALE    MD  11801\n",
              "120      121    ROBERT LUNDGREN    SHAWNEE    MD  23227\n",
              "125      126  PATRICK STALLINGS  CHARLOTTE    MD   5476\n",
              "162      163      MICHAEL HOUCK  SOUTHAVEN    MD  11729\n",
              "164      165        JAMES HEITZ      JENKS    MD  93727\n",
              "184      185          JOE ALERS   NEW BERN    MD   3031\n",
              "185      186         USA PEGORS  EL DORADO    MD  97504"
            ]
          },
          "metadata": {},
          "execution_count": 41
        }
      ]
    },
    {
      "cell_type": "code",
      "metadata": {
        "colab": {
          "base_uri": "https://localhost:8080/"
        },
        "id": "OCRBB8aZOED-",
        "outputId": "f3be8400-5e53-4b0f-b451-0add1c824acd"
      },
      "source": [
        "#EX4\n",
        "#responses.info()\n",
        "#Date is in datetime\n",
        "# dt = responses['RESP_DATE']\n",
        "# responses.RESP_DATE[0]\n",
        "from datetime import datetime\n",
        "\n",
        "df = responses['RESP_DATE'].groupby(responses.RESP_DATE.dt.month).agg('count')\n",
        "df.idxmax()  #hariu ni ene bn\n",
        "\n",
        "df.max()\n",
        "df\n",
        "# for i in range(0,200):\n",
        "#   date =[]\n",
        "#   date[i] = datetime.strptime(str(responses.RESP_DATE[i]), '%Y-%m-%d %H:%M:%S')\n",
        "#   date_object.month\n",
        "\n",
        "# def date_convert(date_to_convert):\n",
        "#      return datetime.datetime.strptime(date_to_convert, '%b %d, %Y').strftime('%m/%d/%Y')\n",
        "\n",
        "# responses['RESP_DATE']= responses['RESP_DATE'].apply(date_convert)\n",
        "# responses['d'] = responses['RESP_DATE'].apply(lambda x: datetime.strptime(x, '%Y%m%d%H'))"
      ],
      "execution_count": 26,
      "outputs": [
        {
          "output_type": "execute_result",
          "data": {
            "text/plain": [
              "RESP_DATE\n",
              "1     20\n",
              "2     14\n",
              "3     21\n",
              "4     24\n",
              "5     16\n",
              "6     16\n",
              "7     15\n",
              "8     11\n",
              "9     14\n",
              "10    13\n",
              "11    19\n",
              "12    17\n",
              "Name: RESP_DATE, dtype: int64"
            ]
          },
          "metadata": {},
          "execution_count": 26
        }
      ]
    },
    {
      "cell_type": "code",
      "metadata": {
        "id": "N3XBlsXdWfd-"
      },
      "source": [
        "# from datetime import datetime\n",
        "# def days_between(d1, d2):\n",
        "#     d1 = datetime.strptime(d1, \"%Y-%m-%d\")\n",
        "#     d2 = datetime.strptime(d2, \"%Y-%m-%d\") \n",
        "#     return abs((d2 - d1).days)\n",
        "# print days_between('2013-05-06', '2013-06-06')"
      ],
      "execution_count": null,
      "outputs": []
    },
    {
      "cell_type": "code",
      "metadata": {
        "colab": {
          "base_uri": "https://localhost:8080/",
          "height": 37
        },
        "id": "hZvF3P4eMMV2",
        "outputId": "21144ba8-c4a2-4706-f091-3f7daadce4bf"
      },
      "source": [
        "#Ex 5\n",
        "df_con = conversions['CONV_DATE'].groupby(conversions.CONV_DATE.dt.month).agg('count')\n",
        "import calendar\n",
        "df_con.idxmax() #number\n",
        "calendar.month_name[df_con.idxmax()] #convert to month\n",
        "\n"
      ],
      "execution_count": 31,
      "outputs": [
        {
          "output_type": "execute_result",
          "data": {
            "application/vnd.google.colaboratory.intrinsic+json": {
              "type": "string"
            },
            "text/plain": [
              "'May'"
            ]
          },
          "metadata": {},
          "execution_count": 31
        }
      ]
    },
    {
      "cell_type": "code",
      "metadata": {
        "id": "DEDaoFmLNMxy"
      },
      "source": [
        "#ex7 verbose mail month\n",
        "mails['VERBOSE_MAIL_MONTH'] = mails['MAIL_MONTH'].apply(lambda x: calendar.month_abbr[x])"
      ],
      "execution_count": 60,
      "outputs": []
    },
    {
      "cell_type": "code",
      "metadata": {
        "id": "y1RxGkWoZMj3"
      },
      "source": [
        "#Ex 2 response per city\n",
        "new = mails.drop_duplicates(subset =['CONT_ID'], keep = 'first')\n",
        "dff1 = pd.merge(responses, new  , on=['MAIL_ID'], how='inner').sort_values(\"MAIL_ID\")\n",
        "# dff1['CONT_ID'] = dff1.drop_duplicates(subset =['CONT_ID'], keep = 'first') #.sort_index()\n",
        "dff2 = pd.merge(dff1, contacts  , on=['CONT_ID'], how='inner').sort_values(\"CONT_ID\").sort_index()\n",
        "# pd.set_option(\"display.max_rows\", None, \"display.max_columns\", None)\n",
        "# dff2[['CITY']].nunique() #check unique values in city column\n",
        "dff2['CITY_STATE'] = dff2[['CITY', 'STATE']].agg(', '.join, axis=1)\n",
        "# dff2[['CITY_STATE']].value_counts()\n",
        "series=(dff2['CITY_STATE'].value_counts()/dff2['CITY_STATE'].count())*100\n",
        "series1 = series.to_frame()\n",
        "series1=series1.reset_index().rename(columns ={'index':'CITY_STATE', 'CITY_STATE':'PERCENTAGE'})\n",
        "series1[\"PERCENTAGE\"] = (series1.PERCENTAGE).apply(lambda x: round(x,2))\n",
        "# # dff2['Per'] = dff2.apply(lambda x :( x['CITY_STATE'].value_counts() / x['CITY_STATE'].count() ) *100 )\n",
        "# dff2\n",
        "# series1"
      ],
      "execution_count": 218,
      "outputs": []
    },
    {
      "cell_type": "code",
      "metadata": {
        "id": "haFsiT7Z2BiQ"
      },
      "source": [
        "# 6.\tGiven that each primary key columns (PK) is indexed properly, please give an estimate run time for the following joins\n",
        "# a.\t1MM contacts LEFT JOIN to 10MM Mail Pieces\n",
        "# b.\t5MM contacts INNER JOIN to 10MM Mail Pieces LEFT JOIN to 4.25MM Responses\n",
        "import timeit\n",
        "\n"
      ],
      "execution_count": 247,
      "outputs": []
    }
  ]
}