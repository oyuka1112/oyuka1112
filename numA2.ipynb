{
  "nbformat": 4,
  "nbformat_minor": 0,
  "metadata": {
    "colab": {
      "name": "numA2.ipynb",
      "provenance": [],
      "collapsed_sections": [],
      "authorship_tag": "ABX9TyOFXokJkNw/yCnAzJljk9bd",
      "include_colab_link": true
    },
    "kernelspec": {
      "name": "python3",
      "display_name": "Python 3"
    },
    "language_info": {
      "name": "python"
    }
  },
  "cells": [
    {
      "cell_type": "markdown",
      "metadata": {
        "id": "view-in-github",
        "colab_type": "text"
      },
      "source": [
        "<a href=\"https://colab.research.google.com/github/oyuka1112/oyuka1112/blob/main/numA2.ipynb\" target=\"_parent\"><img src=\"https://colab.research.google.com/assets/colab-badge.svg\" alt=\"Open In Colab\"/></a>"
      ]
    },
    {
      "cell_type": "code",
      "metadata": {
        "colab": {
          "base_uri": "https://localhost:8080/",
          "height": 282
        },
        "id": "JX6Xp2MJ60co",
        "outputId": "6e8d2b78-34e1-49a6-f35b-e727b4efd841"
      },
      "source": [
        "import numpy as np\n",
        "import matplotlib.pyplot as plt\n",
        "\n"
      ],
      "execution_count": 6,
      "outputs": [
        {
          "output_type": "execute_result",
          "data": {
            "text/plain": [
              "[<matplotlib.lines.Line2D at 0x7fae6ad52050>]"
            ]
          },
          "metadata": {},
          "execution_count": 6
        },
        {
          "output_type": "display_data",
          "data": {
            "image/png": "[encoded data removed]",
            "text/plain": [
              "<Figure size 432x288 with 1 Axes>"
            ]
          },
          "metadata": {
            "needs_background": "light"
          }
        }
      ]
    },
    {
      "cell_type": "code",
      "metadata": {
        "id": "ALgfBHVx70-h"
      },
      "source": [
        "#Problem 2\n",
        "# def fun_1(x):\n",
        "#   first = (5-(x**2))**0.5\n",
        "#   return first\n",
        "# def fun_2(x):\n",
        "#   second = -((5-(x**2))**0.5)\n",
        "#   return second\n",
        "# def fun2(x):\n",
        "#   y = 3*x-5\n",
        "#   return y\n",
        "\n",
        "\n",
        "\n",
        "# x = np.arange(-3, 3, 0.001)\n",
        "# # print(x)\n",
        "# # y = np.arange(-10, 10)\n",
        "\n",
        "# first = fun_1(x)\n",
        "# second = fun_2(x)\n",
        "# y = fun2(x)\n",
        "\n",
        "\n",
        "# plt.plot(x, first, 'r')\n",
        "# plt.plot(x, second, 'r')\n",
        "# plt.plot(x, y, 'b')"
      ],
      "execution_count": 67,
      "outputs": []
    },
    {
      "cell_type": "code",
      "metadata": {
        "id": "e6jBOuc-AnLU"
      },
      "source": [
        "\n",
        "# def fun_1(x):\n",
        "#   first = (26-(x**2))**0.5\n",
        "#   return first\n",
        "# def fun_2(x):\n",
        "#   second = -((26-(x**2))**0.5)\n",
        "#   return second\n",
        "# def cir1(x):\n",
        "#   y1 = ((100-3*(x**2))/25)**0.5\n",
        "#   return y1\n",
        "# def cir2(x):\n",
        "#   y2 = -(((100-3*(x**2))/25)**0.5)\n",
        "#   return y2\n",
        "\n",
        "\n",
        "\n",
        "# x = np.arange(-10, 10, 0.001)\n",
        "# # print(x)\n",
        "\n",
        "\n",
        "# first = fun_1(x)\n",
        "# second = fun_2(x)\n",
        "# y1 = cir1(x)\n",
        "# y2 = cir2(x)\n",
        "\n",
        "# plt.plot(x, first, 'r')\n",
        "# plt.plot(x, second, 'r')\n",
        "# plt.plot(x, y1, 'b')\n",
        "# plt.plot(x, y2, 'b')\n",
        "# plt.grid()\n"
      ],
      "execution_count": 75,
      "outputs": []
    },
    {
      "cell_type": "code",
      "metadata": {
        "id": "O3kk4tNy83sn"
      },
      "source": [
        "\n",
        "# def fun(x):\n",
        "#   y = 1/x - 0.5\n",
        "#   return y\n",
        "\n",
        "# x = np.linspace(0.5, 3, 100)\n",
        "# # x = np.linspace(-0.5, -3, 100)\n",
        "# y = fun(x)\n",
        "# plt.plot(x, y, 'b')\n",
        "# plt.grid()\n",
        "# plt.axhline(y=0, color='r', linestyle='-')\n"
      ],
      "execution_count": 84,
      "outputs": []
    },
    {
      "cell_type": "code",
      "metadata": {
        "id": "mw6-XgHDFhzP"
      },
      "source": [
        "#mid point oloood iterate\n",
        "# def fun(x):\n",
        "#   y = 1/x - 0.5\n",
        "#   return y\n",
        "\n",
        "# a, b = 0.5, 3\n",
        "# N = 100 # num of iteration\n",
        "# eps = 1.0e-4\n",
        "# delta = 1.0e-4\n",
        "\n",
        "# fa, fb = fun(a), fun(b)\n",
        "# sa, sb = np.sign(fa), np.sign(fb)\n",
        "# for i in range(N):\n",
        "#   e = b-a\n",
        "#   c = a +0.5*e\n",
        "#   if abs(e)< eps * abs(c):\n",
        "#     print('Below tolerance')\n",
        "#     break\n",
        "#   fc = fun(c)\n",
        "  \n",
        "#   if abs(fc) < delta:\n",
        "#     print('Below tolerance')\n",
        "#     break\n",
        "#   sc = np.sign(fc)\n",
        "#   if sa != sc:\n",
        "#     b = c\n",
        "#     fb = fc\n",
        "#     sb = sc\n",
        "#   else:\n",
        "#     a = c\n",
        "#     fa = fc\n",
        "#     sb = sc\n",
        "#     print(\"%3d %16.8e %16.8e %16.8e\" % (i+1, c, abs(b-a), abs(fc)))\n",
        "\n",
        "\n",
        "\n"
      ],
      "execution_count": 110,
      "outputs": []
    },
    {
      "cell_type": "code",
      "metadata": {
        "id": "Q0iHRM7FKGKe"
      },
      "source": [
        "# def fun(x):\n",
        "#   y = np.exp(x) - np.sin(x)\n",
        "#   return y\n",
        "\n",
        "# a, b = 0.5, 3\n",
        "# N = 100 # num of iteration\n",
        "# eps = 1.0e-4\n",
        "# delta = 1.0e-4\n",
        "\n",
        "# fa, fb = fun(a), fun(b)\n",
        "# sa, sb = np.sign(fa), np.sign(fb)\n",
        "# for i in range(N):\n",
        "#   e = b-a\n",
        "#   c = a +0.5*e\n",
        "#   if abs(e)< eps * abs(c):\n",
        "#     print('Below tolerance')\n",
        "#     break\n",
        "#   fc = fun(c)\n",
        "  \n",
        "#   if abs(fc) < delta:\n",
        "#     print('Below tolerance')\n",
        "#     break\n",
        "#   sc = np.sign(fc)\n",
        "#   if sa != sc:\n",
        "#     b = c\n",
        "#     fb = fc\n",
        "#     sb = sc\n",
        "#   else:\n",
        "#     a = c\n",
        "#     fa = fc\n",
        "#     sb = sc\n",
        "#     print(\"%3d %16.8e %16.8e %16.8e\" % (i+1, c, abs(b-a), abs(fc)))"
      ],
      "execution_count": 115,
      "outputs": []
    },
    {
      "cell_type": "code",
      "metadata": {
        "colab": {
          "base_uri": "https://localhost:8080/",
          "height": 282
        },
        "id": "UCROxXLGP-nC",
        "outputId": "2f377fde-501e-4fae-dca1-522c0a1b860d"
      },
      "source": [
        "#Problem 1\n",
        "# f(x) = x2 -x -1 find x using bisection method and graph\n",
        "\n",
        "def fun(x):\n",
        "  y = x**2 -x -1\n",
        "  return y\n",
        "\n",
        "x = np.linspace(0.5, 3, 100)\n",
        "# x = np.linspace(-0.5, -3, 100)\n",
        "y = fun(x)\n",
        "plt.plot(x, y, 'b')\n",
        "plt.grid()\n",
        "plt.axhline(y=0, color='r', linestyle='-')"
      ],
      "execution_count": 119,
      "outputs": [
        {
          "output_type": "execute_result",
          "data": {
            "text/plain": [
              "<matplotlib.lines.Line2D at 0x7fae651e5650>"
            ]
          },
          "metadata": {},
          "execution_count": 119
        },
        {
          "output_type": "display_data",
          "data": {
            "image/png": "[encoded data removed]",
            "text/plain": [
              "<Figure size 432x288 with 1 Axes>"
            ]
          },
          "metadata": {
            "needs_background": "light"
          }
        }
      ]
    },
    {
      "cell_type": "code",
      "metadata": {
        "colab": {
          "base_uri": "https://localhost:8080/",
          "height": 265
        },
        "id": "9gBLAIP-Qyjx",
        "outputId": "15cf2d80-4809-4a0c-a96c-c3d1c97e4ca6"
      },
      "source": [
        "#Problem 2\n",
        "# fx = (np.exp(x)) -np.sin(x)\n",
        "   #fx = x**2 - 4* np.sin(x) +(2.0 +np.sin(x))**2\n",
        "def fun_1(x):\n",
        "  first = (np.exp(x)) -np.sin(x)\n",
        "  return first\n",
        "def fun_2(x):\n",
        "  second = x**2 - 4* np.sin(x) +(2.0 +np.sin(x))**2\n",
        "  return second\n",
        "\n",
        "\n",
        "\n",
        "x = np.arange(-5, 5, 0.001)\n",
        "\n",
        "first = fun_1(x)\n",
        "second = fun_2(x)\n",
        "\n",
        "plt.plot(x, first, 'r')\n",
        "plt.plot(x, second, 'b')\n",
        "plt.grid()\n"
      ],
      "execution_count": 118,
      "outputs": [
        {
          "output_type": "display_data",
          "data": {
            "image/png": "[encoded data removed]",
            "text/plain": [
              "<Figure size 432x288 with 1 Axes>"
            ]
          },
          "metadata": {
            "needs_background": "light"
          }
        }
      ]
    },
    {
      "cell_type": "code",
      "metadata": {
        "id": "BURH_wveRRa4"
      },
      "source": [
        "# 3 use newtons method\n",
        "# solve f(x) = (x-1)**2 *(np.sin(x))"
      ],
      "execution_count": null,
      "outputs": []
    }
  ]
}