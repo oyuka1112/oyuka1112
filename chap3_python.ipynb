{
  "nbformat": 4,
  "nbformat_minor": 0,
  "metadata": {
    "colab": {
      "name": "Untitled4.ipynb",
      "provenance": [],
      "authorship_tag": "ABX9TyNj2gvrJKWm8ASvfHcLgYhq",
      "include_colab_link": true
    },
    "kernelspec": {
      "name": "python3",
      "display_name": "Python 3"
    },
    "language_info": {
      "name": "python"
    }
  },
  "cells": [
    {
      "cell_type": "markdown",
      "metadata": {
        "id": "view-in-github",
        "colab_type": "text"
      },
      "source": [
        "<a href=\"https://colab.research.google.com/github/oyuka1112/oyuka1112/blob/main/chap3_python.ipynb\" target=\"_parent\"><img src=\"https://colab.research.google.com/assets/colab-badge.svg\" alt=\"Open In Colab\"/></a>"
      ]
    },
    {
      "cell_type": "markdown",
      "metadata": {
        "id": "sW3U9DPbinAK"
      },
      "source": [
        "##Exercise 3.8\n",
        "###Seeing the World: Think of at least five places in the world you’d like to visit \n",
        "###Store the locations in a list . Make sure the list is not in alphabetical order \n",
        "###Print your list in its original order . Don’t worry about printing the list neatly, just print it as a raw Python list\n",
        "###Use sorted() to print your list in alphabetical order without modifying the actual list ."
      ]
    },
    {
      "cell_type": "code",
      "metadata": {
        "colab": {
          "base_uri": "https://localhost:8080/"
        },
        "id": "zTy_Xk0Ri_C_",
        "outputId": "79f9de66-5f15-4cdc-9ccf-c576f4f6a083"
      },
      "source": [
        "#3.8\n",
        "places = ['France', 'Korea', 'Canada', 'Austria', 'Sweden', 'Morocco', 'Japan']\n",
        "print(places)"
      ],
      "execution_count": 29,
      "outputs": [
        {
          "output_type": "stream",
          "name": "stdout",
          "text": [
            "['France', 'Korea', 'Canada', 'Austria', 'Sweden', 'Morocco', 'Japan']\n"
          ]
        }
      ]
    },
    {
      "cell_type": "code",
      "metadata": {
        "colab": {
          "base_uri": "https://localhost:8080/"
        },
        "id": "friS6nRBjVPQ",
        "outputId": "e62a70a9-d898-42ad-c25d-e71264fa4e72"
      },
      "source": [
        "print(sorted(places))"
      ],
      "execution_count": 6,
      "outputs": [
        {
          "output_type": "stream",
          "name": "stdout",
          "text": [
            "['Austria', 'Canada', 'France', 'Japan', 'Korea', 'Morocco', 'Sweden']\n"
          ]
        }
      ]
    },
    {
      "cell_type": "code",
      "metadata": {
        "colab": {
          "base_uri": "https://localhost:8080/"
        },
        "id": "UfRHQ9NujiJB",
        "outputId": "7ad6feae-d609-4b23-ce4f-f7529c6adfca"
      },
      "source": [
        "#Show that your list is still in its original order by printing it .\n",
        "print(places)"
      ],
      "execution_count": 7,
      "outputs": [
        {
          "output_type": "stream",
          "name": "stdout",
          "text": [
            "['France', 'Korea', 'Canada', 'Austria', 'Sweden', 'Morocco', 'Japan']\n"
          ]
        }
      ]
    },
    {
      "cell_type": "code",
      "metadata": {
        "colab": {
          "base_uri": "https://localhost:8080/"
        },
        "id": "fstGa2Nljoq1",
        "outputId": "809eed2f-badd-4836-e364-7a60168585d4"
      },
      "source": [
        "#Use sorted() to print your list in reverse alphabetical order without chang-ing the order of the original list\n",
        "places.sort(reverse=True)\n",
        "print(places)"
      ],
      "execution_count": 31,
      "outputs": [
        {
          "output_type": "stream",
          "name": "stdout",
          "text": [
            "['Sweden', 'Morocco', 'Korea', 'Japan', 'France', 'Canada', 'Austria']\n"
          ]
        }
      ]
    },
    {
      "cell_type": "code",
      "metadata": {
        "colab": {
          "base_uri": "https://localhost:8080/"
        },
        "id": "o2CbwjobmYUk",
        "outputId": "a2ab7906-fd86-4f96-e113-6c08d4069e38"
      },
      "source": [
        "#Use sort() to change your list so it’s stored in alphabetical order . Print the list to show that its order has been changed \n",
        "places.sort()\n",
        "print(places)"
      ],
      "execution_count": 34,
      "outputs": [
        {
          "output_type": "stream",
          "name": "stdout",
          "text": [
            "['Austria', 'Canada', 'France', 'Japan', 'Korea', 'Morocco', 'Sweden']\n"
          ]
        }
      ]
    },
    {
      "cell_type": "markdown",
      "metadata": {
        "id": "ORMo66NpnsW1"
      },
      "source": [
        "##3-9. Dinner Guests: Working with one of the programs from Exercises 3-4 through 3-7 (page 46), use len() to print a message indicating the number of people you are inviting to dinner ."
      ]
    },
    {
      "cell_type": "code",
      "metadata": {
        "colab": {
          "base_uri": "https://localhost:8080/"
        },
        "id": "asXrDrDBnxMH",
        "outputId": "0936cd9e-7a9f-4513-8403-aecdd5ed05f5"
      },
      "source": [
        "guests = ['Jessica','Matt', 'Joseph', 'Brittany', 'Kevin', 'Tiffany']\n",
        "print(len(guests))"
      ],
      "execution_count": 35,
      "outputs": [
        {
          "output_type": "stream",
          "name": "stdout",
          "text": [
            "6\n"
          ]
        }
      ]
    },
    {
      "cell_type": "markdown",
      "metadata": {
        "id": "8GuXtT8qnvJV"
      },
      "source": [
        "##3-10. Every Function: Think of something you could store in a list . For example, you could make a list of mountains, rivers, countries, cities, languages, or any-thing else you’d like . Write a program that creates a list containing these items and then uses each function introduced in this chapter at least once .avoiding Index errors when working with listsOne type of error is common to see when you’re working with lists for the first time. Let’s say you have a list with three items, and you ask for the fourth item:motorcycles = ['honda', 'yamaha', 'suzuki'] print(motorcycles[3])\n"
      ]
    },
    {
      "cell_type": "code",
      "metadata": {
        "colab": {
          "base_uri": "https://localhost:8080/"
        },
        "id": "LEQrEDqVnvzF",
        "outputId": "c5cceb43-4c28-44c6-aeea-7cfc1689cf4d"
      },
      "source": [
        "subjects = ['Statistics','Economics','Data Visualization','Writing']\n",
        "subjects.pop()\n",
        "print(subjects)"
      ],
      "execution_count": 47,
      "outputs": [
        {
          "output_type": "stream",
          "name": "stdout",
          "text": [
            "['Statistics', 'Economics', 'Data Visualization']\n"
          ]
        }
      ]
    },
    {
      "cell_type": "code",
      "metadata": {
        "colab": {
          "base_uri": "https://localhost:8080/"
        },
        "id": "p2FPD6ryooyC",
        "outputId": "ec12b430-8c3e-48f3-c093-cd91bf72b815"
      },
      "source": [
        "subjects.append('Finance')\n",
        "subjects"
      ],
      "execution_count": 43,
      "outputs": [
        {
          "output_type": "execute_result",
          "data": {
            "text/plain": [
              "['Statistics', 'Economics', 'Data Visualization', 'Finance']"
            ]
          },
          "metadata": {},
          "execution_count": 43
        }
      ]
    },
    {
      "cell_type": "code",
      "metadata": {
        "colab": {
          "base_uri": "https://localhost:8080/"
        },
        "id": "9q0aVrcFozd8",
        "outputId": "f28c41a8-6346-4741-9c8e-aed11b53c305"
      },
      "source": [
        "subjects.insert(2, 'Analysis')\n",
        "subjects"
      ],
      "execution_count": 48,
      "outputs": [
        {
          "output_type": "execute_result",
          "data": {
            "text/plain": [
              "['Statistics', 'Economics', 'Analysis', 'Data Visualization']"
            ]
          },
          "metadata": {},
          "execution_count": 48
        }
      ]
    },
    {
      "cell_type": "code",
      "metadata": {
        "colab": {
          "base_uri": "https://localhost:8080/"
        },
        "id": "Vn7VU_gRo_O7",
        "outputId": "9ca1a481-946e-4a50-a81f-79f6c5f28f5c"
      },
      "source": [
        "del subjects[0]\n",
        "subjects"
      ],
      "execution_count": 49,
      "outputs": [
        {
          "output_type": "execute_result",
          "data": {
            "text/plain": [
              "['Economics', 'Analysis', 'Data Visualization']"
            ]
          },
          "metadata": {},
          "execution_count": 49
        }
      ]
    },
    {
      "cell_type": "code",
      "metadata": {
        "colab": {
          "base_uri": "https://localhost:8080/"
        },
        "id": "yNeoqQaVpFMc",
        "outputId": "b3eb5fad-2f8d-4045-f384-951a71c7feaf"
      },
      "source": [
        "subjects.sort()\n",
        "print(subjects)"
      ],
      "execution_count": 50,
      "outputs": [
        {
          "output_type": "stream",
          "name": "stdout",
          "text": [
            "['Analysis', 'Data Visualization', 'Economics']\n"
          ]
        }
      ]
    },
    {
      "cell_type": "code",
      "metadata": {
        "colab": {
          "base_uri": "https://localhost:8080/"
        },
        "id": "qthm2e2WpNU3",
        "outputId": "f4c8441b-c949-4b39-b8f9-01924749dbdf"
      },
      "source": [
        "subjects.sort(reverse=True)\n",
        "print(subjects)"
      ],
      "execution_count": 51,
      "outputs": [
        {
          "output_type": "stream",
          "name": "stdout",
          "text": [
            "['Economics', 'Data Visualization', 'Analysis']\n"
          ]
        }
      ]
    },
    {
      "cell_type": "code",
      "metadata": {
        "colab": {
          "base_uri": "https://localhost:8080/"
        },
        "id": "YYyzh6ZCpSD_",
        "outputId": "e0adf1f5-41de-4594-dfa3-e1a2e85f1c65"
      },
      "source": [
        "subjects.reverse()\n",
        "print(subjects)"
      ],
      "execution_count": 52,
      "outputs": [
        {
          "output_type": "stream",
          "name": "stdout",
          "text": [
            "['Analysis', 'Data Visualization', 'Economics']\n"
          ]
        }
      ]
    },
    {
      "cell_type": "code",
      "metadata": {
        "colab": {
          "base_uri": "https://localhost:8080/"
        },
        "id": "Er6SQnwapUd0",
        "outputId": "a3567d29-494a-4ac3-cd80-ca6b2e4e33ae"
      },
      "source": [
        "print(len(subjects))"
      ],
      "execution_count": 54,
      "outputs": [
        {
          "output_type": "stream",
          "name": "stdout",
          "text": [
            "3\n"
          ]
        }
      ]
    },
    {
      "cell_type": "code",
      "metadata": {
        "id": "zi7hlf4QpdOk"
      },
      "source": [
        ""
      ],
      "execution_count": null,
      "outputs": []
    }
  ]
}