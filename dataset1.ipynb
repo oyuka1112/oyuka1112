{
  "nbformat": 4,
  "nbformat_minor": 0,
  "metadata": {
    "colab": {
      "name": "dataset1.ipynb",
      "provenance": [],
      "collapsed_sections": [],
      "authorship_tag": "ABX9TyNBiuTjv1yi1BiEe4bRzTSw",
      "include_colab_link": true
    },
    "kernelspec": {
      "name": "python3",
      "display_name": "Python 3"
    },
    "language_info": {
      "name": "python"
    }
  },
  "cells": [
    {
      "cell_type": "markdown",
      "metadata": {
        "id": "view-in-github",
        "colab_type": "text"
      },
      "source": [
        "<a href=\"https://colab.research.google.com/github/oyuka1112/oyuka1112/blob/main/dataset1.ipynb\" target=\"_parent\"><img src=\"https://colab.research.google.com/assets/colab-badge.svg\" alt=\"Open In Colab\"/></a>"
      ]
    },
    {
      "cell_type": "code",
      "metadata": {
        "id": "YdNLg2XqUd22"
      },
      "source": [
        "import pandas as pd\n",
        "from matplotlib import pyplot as plt"
      ],
      "execution_count": 10,
      "outputs": []
    },
    {
      "cell_type": "code",
      "metadata": {
        "id": "ZYr86rEBUhy9"
      },
      "source": [
        "#import all the files\n",
        "contacts = pd.read_excel(r'Df_contacts.txt.xlsx')  #.set_index(\"CONT_ID\") #set index as ID \n",
        "mails= pd.read_excel(r'Df_mails.xlsx')  #.set_index(\"MAIL_ID\")\n",
        "responses= pd.read_excel(r'Df_responses.xlsx')  #.set_index(\"RESPONSE_ID\")\n",
        "conversions= pd.read_excel(r'Df_conversion.xlsx')  #.set_index(\"CONV_ID\")"
      ],
      "execution_count": 266,
      "outputs": []
    },
    {
      "cell_type": "code",
      "metadata": {
        "id": "ErP96UfGlS2-"
      },
      "source": [
        ""
      ],
      "execution_count": 10,
      "outputs": []
    },
    {
      "cell_type": "markdown",
      "metadata": {
        "id": "r3GeBn5mlHKA"
      },
      "source": [
        "# New Section"
      ]
    },
    {
      "cell_type": "code",
      "metadata": {
        "colab": {
          "base_uri": "https://localhost:8080/",
          "height": 204
        },
        "id": "ih8ZuLRQDz8i",
        "outputId": "bfb580bb-3017-41d6-eaf5-750123299406"
      },
      "source": [
        "contacts.tail()\n"
      ],
      "execution_count": 199,
      "outputs": [
        {
          "output_type": "execute_result",
          "data": {
            "text/html": [
              "<div>\n",
              "<style scoped>\n",
              "    .dataframe tbody tr th:only-of-type {\n",
              "        vertical-align: middle;\n",
              "    }\n",
              "\n",
              "    .dataframe tbody tr th {\n",
              "        vertical-align: top;\n",
              "    }\n",
              "\n",
              "    .dataframe thead th {\n",
              "        text-align: right;\n",
              "    }\n",
              "</style>\n",
              "<table border=\"1\" class=\"dataframe\">\n",
              "  <thead>\n",
              "    <tr style=\"text-align: right;\">\n",
              "      <th></th>\n",
              "      <th>CONT_ID</th>\n",
              "      <th>NAME</th>\n",
              "      <th>CITY</th>\n",
              "      <th>STATE</th>\n",
              "      <th>ZIP5</th>\n",
              "    </tr>\n",
              "  </thead>\n",
              "  <tbody>\n",
              "    <tr>\n",
              "      <th>195</th>\n",
              "      <td>196</td>\n",
              "      <td>SHAWN LITTLE</td>\n",
              "      <td>MOORESTOWN</td>\n",
              "      <td>NY</td>\n",
              "      <td>85268</td>\n",
              "    </tr>\n",
              "    <tr>\n",
              "      <th>196</th>\n",
              "      <td>197</td>\n",
              "      <td>ALBIN NELSON</td>\n",
              "      <td>ORANGEBURG</td>\n",
              "      <td>IA</td>\n",
              "      <td>93704</td>\n",
              "    </tr>\n",
              "    <tr>\n",
              "      <th>197</th>\n",
              "      <td>198</td>\n",
              "      <td>STEVE GOEREE</td>\n",
              "      <td>SOUTHLAKE</td>\n",
              "      <td>AL</td>\n",
              "      <td>50125</td>\n",
              "    </tr>\n",
              "    <tr>\n",
              "      <th>198</th>\n",
              "      <td>199</td>\n",
              "      <td>JOAN BURILL</td>\n",
              "      <td>CARLSBAD</td>\n",
              "      <td>FL</td>\n",
              "      <td>21401</td>\n",
              "    </tr>\n",
              "    <tr>\n",
              "      <th>199</th>\n",
              "      <td>200</td>\n",
              "      <td>JOHN MCNULTY</td>\n",
              "      <td>LULA</td>\n",
              "      <td>FL</td>\n",
              "      <td>77338</td>\n",
              "    </tr>\n",
              "  </tbody>\n",
              "</table>\n",
              "</div>"
            ],
            "text/plain": [
              "     CONT_ID          NAME        CITY STATE   ZIP5\n",
              "195      196  SHAWN LITTLE  MOORESTOWN    NY  85268\n",
              "196      197  ALBIN NELSON  ORANGEBURG    IA  93704\n",
              "197      198  STEVE GOEREE   SOUTHLAKE    AL  50125\n",
              "198      199   JOAN BURILL    CARLSBAD    FL  21401\n",
              "199      200  JOHN MCNULTY        LULA    FL  77338"
            ]
          },
          "metadata": {},
          "execution_count": 199
        }
      ]
    },
    {
      "cell_type": "code",
      "metadata": {
        "colab": {
          "base_uri": "https://localhost:8080/",
          "height": 204
        },
        "id": "08xA8LFOD2qj",
        "outputId": "048e7fe0-bff3-49c4-d72a-2d618ec7e295"
      },
      "source": [
        "mails.tail()"
      ],
      "execution_count": 69,
      "outputs": [
        {
          "output_type": "execute_result",
          "data": {
            "text/html": [
              "<div>\n",
              "<style scoped>\n",
              "    .dataframe tbody tr th:only-of-type {\n",
              "        vertical-align: middle;\n",
              "    }\n",
              "\n",
              "    .dataframe tbody tr th {\n",
              "        vertical-align: top;\n",
              "    }\n",
              "\n",
              "    .dataframe thead th {\n",
              "        text-align: right;\n",
              "    }\n",
              "</style>\n",
              "<table border=\"1\" class=\"dataframe\">\n",
              "  <thead>\n",
              "    <tr style=\"text-align: right;\">\n",
              "      <th></th>\n",
              "      <th>MAIL_ID</th>\n",
              "      <th>CONT_ID</th>\n",
              "      <th>MAIL_MONTH</th>\n",
              "      <th>MAIL_DATE</th>\n",
              "    </tr>\n",
              "  </thead>\n",
              "  <tbody>\n",
              "    <tr>\n",
              "      <th>295</th>\n",
              "      <td>296</td>\n",
              "      <td>4</td>\n",
              "      <td>10</td>\n",
              "      <td>2015-10-23</td>\n",
              "    </tr>\n",
              "    <tr>\n",
              "      <th>296</th>\n",
              "      <td>297</td>\n",
              "      <td>41</td>\n",
              "      <td>5</td>\n",
              "      <td>2017-05-14</td>\n",
              "    </tr>\n",
              "    <tr>\n",
              "      <th>297</th>\n",
              "      <td>298</td>\n",
              "      <td>49</td>\n",
              "      <td>12</td>\n",
              "      <td>2016-12-16</td>\n",
              "    </tr>\n",
              "    <tr>\n",
              "      <th>298</th>\n",
              "      <td>299</td>\n",
              "      <td>120</td>\n",
              "      <td>7</td>\n",
              "      <td>2018-07-21</td>\n",
              "    </tr>\n",
              "    <tr>\n",
              "      <th>299</th>\n",
              "      <td>300</td>\n",
              "      <td>150</td>\n",
              "      <td>12</td>\n",
              "      <td>2018-12-22</td>\n",
              "    </tr>\n",
              "  </tbody>\n",
              "</table>\n",
              "</div>"
            ],
            "text/plain": [
              "     MAIL_ID  CONT_ID  MAIL_MONTH  MAIL_DATE\n",
              "295      296        4          10 2015-10-23\n",
              "296      297       41           5 2017-05-14\n",
              "297      298       49          12 2016-12-16\n",
              "298      299      120           7 2018-07-21\n",
              "299      300      150          12 2018-12-22"
            ]
          },
          "metadata": {},
          "execution_count": 69
        }
      ]
    },
    {
      "cell_type": "code",
      "metadata": {
        "colab": {
          "base_uri": "https://localhost:8080/",
          "height": 204
        },
        "id": "y9CjKlLeD6E3",
        "outputId": "92199113-3264-4496-ef48-d42f61cadfd5"
      },
      "source": [
        "responses.tail()"
      ],
      "execution_count": 70,
      "outputs": [
        {
          "output_type": "execute_result",
          "data": {
            "text/html": [
              "<div>\n",
              "<style scoped>\n",
              "    .dataframe tbody tr th:only-of-type {\n",
              "        vertical-align: middle;\n",
              "    }\n",
              "\n",
              "    .dataframe tbody tr th {\n",
              "        vertical-align: top;\n",
              "    }\n",
              "\n",
              "    .dataframe thead th {\n",
              "        text-align: right;\n",
              "    }\n",
              "</style>\n",
              "<table border=\"1\" class=\"dataframe\">\n",
              "  <thead>\n",
              "    <tr style=\"text-align: right;\">\n",
              "      <th></th>\n",
              "      <th>RESPONSE_ID</th>\n",
              "      <th>MAIL_ID</th>\n",
              "      <th>RESP_DATE</th>\n",
              "    </tr>\n",
              "  </thead>\n",
              "  <tbody>\n",
              "    <tr>\n",
              "      <th>195</th>\n",
              "      <td>196</td>\n",
              "      <td>234</td>\n",
              "      <td>2019-04-22</td>\n",
              "    </tr>\n",
              "    <tr>\n",
              "      <th>196</th>\n",
              "      <td>197</td>\n",
              "      <td>272</td>\n",
              "      <td>2019-03-18</td>\n",
              "    </tr>\n",
              "    <tr>\n",
              "      <th>197</th>\n",
              "      <td>198</td>\n",
              "      <td>18</td>\n",
              "      <td>2019-12-18</td>\n",
              "    </tr>\n",
              "    <tr>\n",
              "      <th>198</th>\n",
              "      <td>199</td>\n",
              "      <td>198</td>\n",
              "      <td>2019-12-17</td>\n",
              "    </tr>\n",
              "    <tr>\n",
              "      <th>199</th>\n",
              "      <td>200</td>\n",
              "      <td>47</td>\n",
              "      <td>2019-03-18</td>\n",
              "    </tr>\n",
              "  </tbody>\n",
              "</table>\n",
              "</div>"
            ],
            "text/plain": [
              "     RESPONSE_ID  MAIL_ID  RESP_DATE\n",
              "195          196      234 2019-04-22\n",
              "196          197      272 2019-03-18\n",
              "197          198       18 2019-12-18\n",
              "198          199      198 2019-12-17\n",
              "199          200       47 2019-03-18"
            ]
          },
          "metadata": {},
          "execution_count": 70
        }
      ]
    },
    {
      "cell_type": "code",
      "metadata": {
        "colab": {
          "base_uri": "https://localhost:8080/",
          "height": 204
        },
        "id": "b3YjV90lED67",
        "outputId": "6907dcb9-fc51-4f4c-cb56-74627f36c9f2"
      },
      "source": [
        "conversions.tail()"
      ],
      "execution_count": 71,
      "outputs": [
        {
          "output_type": "execute_result",
          "data": {
            "text/html": [
              "<div>\n",
              "<style scoped>\n",
              "    .dataframe tbody tr th:only-of-type {\n",
              "        vertical-align: middle;\n",
              "    }\n",
              "\n",
              "    .dataframe tbody tr th {\n",
              "        vertical-align: top;\n",
              "    }\n",
              "\n",
              "    .dataframe thead th {\n",
              "        text-align: right;\n",
              "    }\n",
              "</style>\n",
              "<table border=\"1\" class=\"dataframe\">\n",
              "  <thead>\n",
              "    <tr style=\"text-align: right;\">\n",
              "      <th></th>\n",
              "      <th>CONV_ID</th>\n",
              "      <th>RESPONSE_ID</th>\n",
              "      <th>CONV_DATE</th>\n",
              "    </tr>\n",
              "  </thead>\n",
              "  <tbody>\n",
              "    <tr>\n",
              "      <th>45</th>\n",
              "      <td>46</td>\n",
              "      <td>170</td>\n",
              "      <td>2020-06-01</td>\n",
              "    </tr>\n",
              "    <tr>\n",
              "      <th>46</th>\n",
              "      <td>47</td>\n",
              "      <td>24</td>\n",
              "      <td>2020-11-08</td>\n",
              "    </tr>\n",
              "    <tr>\n",
              "      <th>47</th>\n",
              "      <td>48</td>\n",
              "      <td>78</td>\n",
              "      <td>2020-07-24</td>\n",
              "    </tr>\n",
              "    <tr>\n",
              "      <th>48</th>\n",
              "      <td>49</td>\n",
              "      <td>182</td>\n",
              "      <td>2020-03-03</td>\n",
              "    </tr>\n",
              "    <tr>\n",
              "      <th>49</th>\n",
              "      <td>50</td>\n",
              "      <td>43</td>\n",
              "      <td>2020-12-26</td>\n",
              "    </tr>\n",
              "  </tbody>\n",
              "</table>\n",
              "</div>"
            ],
            "text/plain": [
              "    CONV_ID  RESPONSE_ID  CONV_DATE\n",
              "45       46          170 2020-06-01\n",
              "46       47           24 2020-11-08\n",
              "47       48           78 2020-07-24\n",
              "48       49          182 2020-03-03\n",
              "49       50           43 2020-12-26"
            ]
          },
          "metadata": {},
          "execution_count": 71
        }
      ]
    },
    {
      "cell_type": "code",
      "metadata": {
        "colab": {
          "base_uri": "https://localhost:8080/",
          "height": 450
        },
        "id": "anRg8YdIYjX6",
        "outputId": "193fe404-ec42-4fdd-ce18-a5af64294e4d"
      },
      "source": [
        "mails.sort_values(by = \"MAIL_DATE\", axis = 0 )"
      ],
      "execution_count": null,
      "outputs": [
        {
          "output_type": "execute_result",
          "data": {
            "text/html": [
              "<div>\n",
              "<style scoped>\n",
              "    .dataframe tbody tr th:only-of-type {\n",
              "        vertical-align: middle;\n",
              "    }\n",
              "\n",
              "    .dataframe tbody tr th {\n",
              "        vertical-align: top;\n",
              "    }\n",
              "\n",
              "    .dataframe thead th {\n",
              "        text-align: right;\n",
              "    }\n",
              "</style>\n",
              "<table border=\"1\" class=\"dataframe\">\n",
              "  <thead>\n",
              "    <tr style=\"text-align: right;\">\n",
              "      <th></th>\n",
              "      <th>CONT_ID</th>\n",
              "      <th>MAIL_MONTH</th>\n",
              "      <th>MAIL_DATE</th>\n",
              "    </tr>\n",
              "    <tr>\n",
              "      <th>MAIL_ID</th>\n",
              "      <th></th>\n",
              "      <th></th>\n",
              "      <th></th>\n",
              "    </tr>\n",
              "  </thead>\n",
              "  <tbody>\n",
              "    <tr>\n",
              "      <th>91</th>\n",
              "      <td>45</td>\n",
              "      <td>1</td>\n",
              "      <td>2015-01-01</td>\n",
              "    </tr>\n",
              "    <tr>\n",
              "      <th>191</th>\n",
              "      <td>94</td>\n",
              "      <td>1</td>\n",
              "      <td>2015-01-22</td>\n",
              "    </tr>\n",
              "    <tr>\n",
              "      <th>216</th>\n",
              "      <td>145</td>\n",
              "      <td>1</td>\n",
              "      <td>2015-01-23</td>\n",
              "    </tr>\n",
              "    <tr>\n",
              "      <th>276</th>\n",
              "      <td>55</td>\n",
              "      <td>2</td>\n",
              "      <td>2015-02-04</td>\n",
              "    </tr>\n",
              "    <tr>\n",
              "      <th>32</th>\n",
              "      <td>193</td>\n",
              "      <td>2</td>\n",
              "      <td>2015-02-06</td>\n",
              "    </tr>\n",
              "    <tr>\n",
              "      <th>...</th>\n",
              "      <td>...</td>\n",
              "      <td>...</td>\n",
              "      <td>...</td>\n",
              "    </tr>\n",
              "    <tr>\n",
              "      <th>37</th>\n",
              "      <td>198</td>\n",
              "      <td>12</td>\n",
              "      <td>2018-12-14</td>\n",
              "    </tr>\n",
              "    <tr>\n",
              "      <th>99</th>\n",
              "      <td>65</td>\n",
              "      <td>12</td>\n",
              "      <td>2018-12-15</td>\n",
              "    </tr>\n",
              "    <tr>\n",
              "      <th>76</th>\n",
              "      <td>40</td>\n",
              "      <td>12</td>\n",
              "      <td>2018-12-19</td>\n",
              "    </tr>\n",
              "    <tr>\n",
              "      <th>53</th>\n",
              "      <td>142</td>\n",
              "      <td>12</td>\n",
              "      <td>2018-12-22</td>\n",
              "    </tr>\n",
              "    <tr>\n",
              "      <th>300</th>\n",
              "      <td>150</td>\n",
              "      <td>12</td>\n",
              "      <td>2018-12-22</td>\n",
              "    </tr>\n",
              "  </tbody>\n",
              "</table>\n",
              "<p>300 rows × 3 columns</p>\n",
              "</div>"
            ],
            "text/plain": [
              "         CONT_ID  MAIL_MONTH  MAIL_DATE\n",
              "MAIL_ID                                \n",
              "91            45           1 2015-01-01\n",
              "191           94           1 2015-01-22\n",
              "216          145           1 2015-01-23\n",
              "276           55           2 2015-02-04\n",
              "32           193           2 2015-02-06\n",
              "...          ...         ...        ...\n",
              "37           198          12 2018-12-14\n",
              "99            65          12 2018-12-15\n",
              "76            40          12 2018-12-19\n",
              "53           142          12 2018-12-22\n",
              "300          150          12 2018-12-22\n",
              "\n",
              "[300 rows x 3 columns]"
            ]
          },
          "metadata": {},
          "execution_count": 95
        }
      ]
    },
    {
      "cell_type": "code",
      "metadata": {
        "id": "P6diDRN3bkZp"
      },
      "source": [
        "df1 = pd.merge(conversions, responses  , on=['RESPONSE_ID'], how='inner').sort_values('RESPONSE_ID')\n",
        "# df1 = conversions.set_index('RESPONSE_ID').join(responses.set_index('RESPONSE_ID')).sort_index()"
      ],
      "execution_count": 45,
      "outputs": []
    },
    {
      "cell_type": "code",
      "metadata": {
        "id": "1eiz7y6wG-Vl"
      },
      "source": [
        "df2 = pd.merge(df1, mails  , on=['MAIL_ID'], how='inner').sort_values('MAIL_ID')\n",
        "\n",
        "\n",
        "#df2 = df1.set_index('MAIL_ID').join(mails.set_index('MAIL_ID')).sort_index()"
      ],
      "execution_count": 46,
      "outputs": []
    },
    {
      "cell_type": "code",
      "metadata": {
        "id": "8JUkx8_IVk0J"
      },
      "source": [
        "df3 = pd.merge(df2, contacts  , on=['CONT_ID'], how='inner').sort_values(\"CONT_ID\").sort_index()"
      ],
      "execution_count": 49,
      "outputs": []
    },
    {
      "cell_type": "code",
      "metadata": {
        "id": "9h0wGcoqahzu"
      },
      "source": [
        "df4 = df3['CONT_ID'].drop_duplicates()\n"
      ],
      "execution_count": 165,
      "outputs": []
    },
    {
      "cell_type": "code",
      "metadata": {
        "id": "eYNdbwMdZbRh"
      },
      "source": [
        "df4 = df4.drop(columns = ['CONV_ID', 'RESPONSE_ID', 'MAIL_ID', 'RESP_DATE', 'CONT_ID', 'MAIL_MONTH', 'CITY', 'STATE', 'ZIP5'])"
      ],
      "execution_count": 66,
      "outputs": []
    },
    {
      "cell_type": "code",
      "metadata": {
        "colab": {
          "base_uri": "https://localhost:8080/",
          "height": 204
        },
        "id": "HBtkby-wtrsa",
        "outputId": "2bdc82cc-7e81-4afb-c6ea-2d8cd21db51a"
      },
      "source": [
        "df4.tail()"
      ],
      "execution_count": 73,
      "outputs": [
        {
          "output_type": "execute_result",
          "data": {
            "text/html": [
              "<div>\n",
              "<style scoped>\n",
              "    .dataframe tbody tr th:only-of-type {\n",
              "        vertical-align: middle;\n",
              "    }\n",
              "\n",
              "    .dataframe tbody tr th {\n",
              "        vertical-align: top;\n",
              "    }\n",
              "\n",
              "    .dataframe thead th {\n",
              "        text-align: right;\n",
              "    }\n",
              "</style>\n",
              "<table border=\"1\" class=\"dataframe\">\n",
              "  <thead>\n",
              "    <tr style=\"text-align: right;\">\n",
              "      <th></th>\n",
              "      <th>CONV_DATE</th>\n",
              "      <th>MAIL_DATE</th>\n",
              "      <th>NAME</th>\n",
              "    </tr>\n",
              "  </thead>\n",
              "  <tbody>\n",
              "    <tr>\n",
              "      <th>45</th>\n",
              "      <td>2020-03-26</td>\n",
              "      <td>2015-03-19</td>\n",
              "      <td>ERNESTO MATHEWS</td>\n",
              "    </tr>\n",
              "    <tr>\n",
              "      <th>46</th>\n",
              "      <td>2020-03-03</td>\n",
              "      <td>2015-10-07</td>\n",
              "      <td>PING RENGA</td>\n",
              "    </tr>\n",
              "    <tr>\n",
              "      <th>47</th>\n",
              "      <td>2020-11-28</td>\n",
              "      <td>2018-06-08</td>\n",
              "      <td>MICHAEL RAUB</td>\n",
              "    </tr>\n",
              "    <tr>\n",
              "      <th>48</th>\n",
              "      <td>2020-05-04</td>\n",
              "      <td>2015-04-26</td>\n",
              "      <td>J SOLIS</td>\n",
              "    </tr>\n",
              "    <tr>\n",
              "      <th>49</th>\n",
              "      <td>2020-05-03</td>\n",
              "      <td>2018-12-22</td>\n",
              "      <td>MARIA COYLE</td>\n",
              "    </tr>\n",
              "  </tbody>\n",
              "</table>\n",
              "</div>"
            ],
            "text/plain": [
              "    CONV_DATE  MAIL_DATE             NAME\n",
              "45 2020-03-26 2015-03-19  ERNESTO MATHEWS\n",
              "46 2020-03-03 2015-10-07       PING RENGA\n",
              "47 2020-11-28 2018-06-08     MICHAEL RAUB\n",
              "48 2020-05-04 2015-04-26          J SOLIS\n",
              "49 2020-05-03 2018-12-22      MARIA COYLE"
            ]
          },
          "metadata": {},
          "execution_count": 73
        }
      ]
    },
    {
      "cell_type": "code",
      "metadata": {
        "id": "hfmA8TnSxLfc"
      },
      "source": [
        "#Ex 8\n",
        "names = contacts['NAME']\n",
        "names = names.to_frame()\n",
        "names = names['NAME'].str.split(',',expand = True).add_prefix('NAME')\n",
        "contacts['FIRST NAME'] = names['NAME0'].str.split().str[0].astype(str, errors='ignore')\n",
        "contacts['LAST NAME'] = names['NAME0'].str.split().str[-1].astype(str, errors='ignore')"
      ],
      "execution_count": 257,
      "outputs": []
    },
    {
      "cell_type": "code",
      "metadata": {
        "id": "1rNfunSGIytA"
      },
      "source": [
        "# names = names.drop('NAME1', axis = 1)"
      ],
      "execution_count": 236,
      "outputs": []
    },
    {
      "cell_type": "code",
      "metadata": {
        "id": "ylCfwOzDZhVA"
      },
      "source": [
        "# contacts.rename(columns={0: \"NAME\"}).drop(columns = 1)\n",
        "# names = names.rename(columns={'NAME0': \"NAME\"})\n",
        "# names = names.drop(columns = 'NAME', axis = 1)\n",
        "# names"
      ],
      "execution_count": 245,
      "outputs": []
    },
    {
      "cell_type": "code",
      "metadata": {
        "colab": {
          "base_uri": "https://localhost:8080/",
          "height": 266
        },
        "id": "bYhVk7f9BZvS",
        "outputId": "a50d2fd2-4f2f-465e-ff6e-a95891c3bf78"
      },
      "source": [
        "#Ex 9\n",
        "contacts_only_MD = contacts[contacts.STATE =='MD']\n",
        "contacts_only_MD"
      ],
      "execution_count": 258,
      "outputs": [
        {
          "output_type": "execute_result",
          "data": {
            "text/html": [
              "<div>\n",
              "<style scoped>\n",
              "    .dataframe tbody tr th:only-of-type {\n",
              "        vertical-align: middle;\n",
              "    }\n",
              "\n",
              "    .dataframe tbody tr th {\n",
              "        vertical-align: top;\n",
              "    }\n",
              "\n",
              "    .dataframe thead th {\n",
              "        text-align: right;\n",
              "    }\n",
              "</style>\n",
              "<table border=\"1\" class=\"dataframe\">\n",
              "  <thead>\n",
              "    <tr style=\"text-align: right;\">\n",
              "      <th></th>\n",
              "      <th>CONT_ID</th>\n",
              "      <th>NAME</th>\n",
              "      <th>CITY</th>\n",
              "      <th>STATE</th>\n",
              "      <th>ZIP5</th>\n",
              "      <th>FIRST NAME</th>\n",
              "      <th>LAST NAME</th>\n",
              "    </tr>\n",
              "  </thead>\n",
              "  <tbody>\n",
              "    <tr>\n",
              "      <th>57</th>\n",
              "      <td>58</td>\n",
              "      <td>JOE COVEY LANDERS</td>\n",
              "      <td>URBANDALE</td>\n",
              "      <td>MD</td>\n",
              "      <td>11801</td>\n",
              "      <td>JOE</td>\n",
              "      <td>LANDERS</td>\n",
              "    </tr>\n",
              "    <tr>\n",
              "      <th>120</th>\n",
              "      <td>121</td>\n",
              "      <td>ROBERT LUNDGREN</td>\n",
              "      <td>SHAWNEE</td>\n",
              "      <td>MD</td>\n",
              "      <td>23227</td>\n",
              "      <td>ROBERT</td>\n",
              "      <td>LUNDGREN</td>\n",
              "    </tr>\n",
              "    <tr>\n",
              "      <th>125</th>\n",
              "      <td>126</td>\n",
              "      <td>PATRICK STALLINGS</td>\n",
              "      <td>CHARLOTTE</td>\n",
              "      <td>MD</td>\n",
              "      <td>5476</td>\n",
              "      <td>PATRICK</td>\n",
              "      <td>STALLINGS</td>\n",
              "    </tr>\n",
              "    <tr>\n",
              "      <th>162</th>\n",
              "      <td>163</td>\n",
              "      <td>MICHAEL HOUCK</td>\n",
              "      <td>SOUTHAVEN</td>\n",
              "      <td>MD</td>\n",
              "      <td>11729</td>\n",
              "      <td>MICHAEL</td>\n",
              "      <td>HOUCK</td>\n",
              "    </tr>\n",
              "    <tr>\n",
              "      <th>164</th>\n",
              "      <td>165</td>\n",
              "      <td>JAMES HEITZ</td>\n",
              "      <td>JENKS</td>\n",
              "      <td>MD</td>\n",
              "      <td>93727</td>\n",
              "      <td>JAMES</td>\n",
              "      <td>HEITZ</td>\n",
              "    </tr>\n",
              "    <tr>\n",
              "      <th>184</th>\n",
              "      <td>185</td>\n",
              "      <td>JOE ALERS</td>\n",
              "      <td>NEW BERN</td>\n",
              "      <td>MD</td>\n",
              "      <td>3031</td>\n",
              "      <td>JOE</td>\n",
              "      <td>ALERS</td>\n",
              "    </tr>\n",
              "    <tr>\n",
              "      <th>185</th>\n",
              "      <td>186</td>\n",
              "      <td>USA PEGORS</td>\n",
              "      <td>EL DORADO</td>\n",
              "      <td>MD</td>\n",
              "      <td>97504</td>\n",
              "      <td>USA</td>\n",
              "      <td>PEGORS</td>\n",
              "    </tr>\n",
              "  </tbody>\n",
              "</table>\n",
              "</div>"
            ],
            "text/plain": [
              "     CONT_ID               NAME       CITY STATE   ZIP5 FIRST NAME  LAST NAME\n",
              "57        58  JOE COVEY LANDERS  URBANDALE    MD  11801        JOE    LANDERS\n",
              "120      121    ROBERT LUNDGREN    SHAWNEE    MD  23227     ROBERT   LUNDGREN\n",
              "125      126  PATRICK STALLINGS  CHARLOTTE    MD   5476    PATRICK  STALLINGS\n",
              "162      163      MICHAEL HOUCK  SOUTHAVEN    MD  11729    MICHAEL      HOUCK\n",
              "164      165        JAMES HEITZ      JENKS    MD  93727      JAMES      HEITZ\n",
              "184      185          JOE ALERS   NEW BERN    MD   3031        JOE      ALERS\n",
              "185      186         USA PEGORS  EL DORADO    MD  97504        USA     PEGORS"
            ]
          },
          "metadata": {},
          "execution_count": 258
        }
      ]
    },
    {
      "cell_type": "code",
      "metadata": {
        "colab": {
          "base_uri": "https://localhost:8080/",
          "height": 375
        },
        "id": "OCRBB8aZOED-",
        "outputId": "2add833d-ef8c-4b7e-992a-d2bcc7af0fb4"
      },
      "source": [
        "# responses.info()\n",
        "#Date is in datetime\n",
        "dt = responses['RESP_DATE']\n",
        "import datetime\n",
        "def date_convert(date_to_convert):\n",
        "     return datetime.datetime.strptime(date_to_convert, '%b %d, %Y').strftime('%m/%d/%Y')\n",
        "\n",
        "responses['RESP_DATE']= responses['RESP_DATE'].apply(date_convert)"
      ],
      "execution_count": 281,
      "outputs": [
        {
          "output_type": "error",
          "ename": "TypeError",
          "evalue": "ignored",
          "traceback": [
            "\u001b[0;31m---------------------------------------------------------------------------\u001b[0m",
            "\u001b[0;31mTypeError\u001b[0m                                 Traceback (most recent call last)",
            "\u001b[0;32m<ipython-input-281-cd707774f3bf>\u001b[0m in \u001b[0;36m<module>\u001b[0;34m()\u001b[0m\n\u001b[1;32m      6\u001b[0m      \u001b[0;32mreturn\u001b[0m \u001b[0mdatetime\u001b[0m\u001b[0;34m.\u001b[0m\u001b[0mdatetime\u001b[0m\u001b[0;34m.\u001b[0m\u001b[0mstrptime\u001b[0m\u001b[0;34m(\u001b[0m\u001b[0mdate_to_convert\u001b[0m\u001b[0;34m,\u001b[0m \u001b[0;34m'%b %d, %Y'\u001b[0m\u001b[0;34m)\u001b[0m\u001b[0;34m.\u001b[0m\u001b[0mstrftime\u001b[0m\u001b[0;34m(\u001b[0m\u001b[0;34m'%m/%d/%Y'\u001b[0m\u001b[0;34m)\u001b[0m\u001b[0;34m\u001b[0m\u001b[0;34m\u001b[0m\u001b[0m\n\u001b[1;32m      7\u001b[0m \u001b[0;34m\u001b[0m\u001b[0m\n\u001b[0;32m----> 8\u001b[0;31m \u001b[0mresponses\u001b[0m\u001b[0;34m[\u001b[0m\u001b[0;34m'RESP_DATE'\u001b[0m\u001b[0;34m]\u001b[0m\u001b[0;34m=\u001b[0m \u001b[0mresponses\u001b[0m\u001b[0;34m[\u001b[0m\u001b[0;34m'RESP_DATE'\u001b[0m\u001b[0;34m]\u001b[0m\u001b[0;34m.\u001b[0m\u001b[0mapply\u001b[0m\u001b[0;34m(\u001b[0m\u001b[0mdate_convert\u001b[0m\u001b[0;34m)\u001b[0m\u001b[0;34m\u001b[0m\u001b[0;34m\u001b[0m\u001b[0m\n\u001b[0m",
            "\u001b[0;32m/usr/local/lib/python3.7/dist-packages/pandas/core/series.py\u001b[0m in \u001b[0;36mapply\u001b[0;34m(self, func, convert_dtype, args, **kwds)\u001b[0m\n\u001b[1;32m   4211\u001b[0m             \u001b[0;32melse\u001b[0m\u001b[0;34m:\u001b[0m\u001b[0;34m\u001b[0m\u001b[0;34m\u001b[0m\u001b[0m\n\u001b[1;32m   4212\u001b[0m                 \u001b[0mvalues\u001b[0m \u001b[0;34m=\u001b[0m \u001b[0mself\u001b[0m\u001b[0;34m.\u001b[0m\u001b[0mastype\u001b[0m\u001b[0;34m(\u001b[0m\u001b[0mobject\u001b[0m\u001b[0;34m)\u001b[0m\u001b[0;34m.\u001b[0m\u001b[0m_values\u001b[0m\u001b[0;34m\u001b[0m\u001b[0;34m\u001b[0m\u001b[0m\n\u001b[0;32m-> 4213\u001b[0;31m                 \u001b[0mmapped\u001b[0m \u001b[0;34m=\u001b[0m \u001b[0mlib\u001b[0m\u001b[0;34m.\u001b[0m\u001b[0mmap_infer\u001b[0m\u001b[0;34m(\u001b[0m\u001b[0mvalues\u001b[0m\u001b[0;34m,\u001b[0m \u001b[0mf\u001b[0m\u001b[0;34m,\u001b[0m \u001b[0mconvert\u001b[0m\u001b[0;34m=\u001b[0m\u001b[0mconvert_dtype\u001b[0m\u001b[0;34m)\u001b[0m\u001b[0;34m\u001b[0m\u001b[0;34m\u001b[0m\u001b[0m\n\u001b[0m\u001b[1;32m   4214\u001b[0m \u001b[0;34m\u001b[0m\u001b[0m\n\u001b[1;32m   4215\u001b[0m         \u001b[0;32mif\u001b[0m \u001b[0mlen\u001b[0m\u001b[0;34m(\u001b[0m\u001b[0mmapped\u001b[0m\u001b[0;34m)\u001b[0m \u001b[0;32mand\u001b[0m \u001b[0misinstance\u001b[0m\u001b[0;34m(\u001b[0m\u001b[0mmapped\u001b[0m\u001b[0;34m[\u001b[0m\u001b[0;36m0\u001b[0m\u001b[0;34m]\u001b[0m\u001b[0;34m,\u001b[0m \u001b[0mSeries\u001b[0m\u001b[0;34m)\u001b[0m\u001b[0;34m:\u001b[0m\u001b[0;34m\u001b[0m\u001b[0;34m\u001b[0m\u001b[0m\n",
            "\u001b[0;32mpandas/_libs/lib.pyx\u001b[0m in \u001b[0;36mpandas._libs.lib.map_infer\u001b[0;34m()\u001b[0m\n",
            "\u001b[0;32m<ipython-input-281-cd707774f3bf>\u001b[0m in \u001b[0;36mdate_convert\u001b[0;34m(date_to_convert)\u001b[0m\n\u001b[1;32m      4\u001b[0m \u001b[0;32mimport\u001b[0m \u001b[0mdatetime\u001b[0m\u001b[0;34m\u001b[0m\u001b[0;34m\u001b[0m\u001b[0m\n\u001b[1;32m      5\u001b[0m \u001b[0;32mdef\u001b[0m \u001b[0mdate_convert\u001b[0m\u001b[0;34m(\u001b[0m\u001b[0mdate_to_convert\u001b[0m\u001b[0;34m)\u001b[0m\u001b[0;34m:\u001b[0m\u001b[0;34m\u001b[0m\u001b[0;34m\u001b[0m\u001b[0m\n\u001b[0;32m----> 6\u001b[0;31m      \u001b[0;32mreturn\u001b[0m \u001b[0mdatetime\u001b[0m\u001b[0;34m.\u001b[0m\u001b[0mdatetime\u001b[0m\u001b[0;34m.\u001b[0m\u001b[0mstrptime\u001b[0m\u001b[0;34m(\u001b[0m\u001b[0mdate_to_convert\u001b[0m\u001b[0;34m,\u001b[0m \u001b[0;34m'%b %d, %Y'\u001b[0m\u001b[0;34m)\u001b[0m\u001b[0;34m.\u001b[0m\u001b[0mstrftime\u001b[0m\u001b[0;34m(\u001b[0m\u001b[0;34m'%m/%d/%Y'\u001b[0m\u001b[0;34m)\u001b[0m\u001b[0;34m\u001b[0m\u001b[0;34m\u001b[0m\u001b[0m\n\u001b[0m\u001b[1;32m      7\u001b[0m \u001b[0;34m\u001b[0m\u001b[0m\n\u001b[1;32m      8\u001b[0m \u001b[0mresponses\u001b[0m\u001b[0;34m[\u001b[0m\u001b[0;34m'RESP_DATE'\u001b[0m\u001b[0;34m]\u001b[0m\u001b[0;34m=\u001b[0m \u001b[0mresponses\u001b[0m\u001b[0;34m[\u001b[0m\u001b[0;34m'RESP_DATE'\u001b[0m\u001b[0;34m]\u001b[0m\u001b[0;34m.\u001b[0m\u001b[0mapply\u001b[0m\u001b[0;34m(\u001b[0m\u001b[0mdate_convert\u001b[0m\u001b[0;34m)\u001b[0m\u001b[0;34m\u001b[0m\u001b[0;34m\u001b[0m\u001b[0m\n",
            "\u001b[0;31mTypeError\u001b[0m: strptime() argument 1 must be str, not Timestamp"
          ]
        }
      ]
    }
  ]
}