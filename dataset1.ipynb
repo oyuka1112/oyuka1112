{
  "nbformat": 4,
  "nbformat_minor": 0,
  "metadata": {
    "colab": {
      "name": "dataset1.ipynb",
      "provenance": [],
      "authorship_tag": "ABX9TyMW7GyZBAEIcxhSLI8VcKPo",
      "include_colab_link": true
    },
    "kernelspec": {
      "name": "python3",
      "display_name": "Python 3"
    },
    "language_info": {
      "name": "python"
    }
  },
  "cells": [
    {
      "cell_type": "markdown",
      "metadata": {
        "id": "view-in-github",
        "colab_type": "text"
      },
      "source": [
        "<a href=\"https://colab.research.google.com/github/oyuka1112/oyuka1112/blob/main/dataset1.ipynb\" target=\"_parent\"><img src=\"https://colab.research.google.com/assets/colab-badge.svg\" alt=\"Open In Colab\"/></a>"
      ]
    },
    {
      "cell_type": "code",
      "metadata": {
        "id": "YdNLg2XqUd22"
      },
      "source": [
        "import pandas as pd\n",
        "from matplotlib import pyplot as plt"
      ],
      "execution_count": 36,
      "outputs": []
    },
    {
      "cell_type": "code",
      "metadata": {
        "id": "ZYr86rEBUhy9"
      },
      "source": [
        "#import all the files\n",
        "contacts = pd.read_excel(r'Df_contacts.txt.xlsx').set_index(\"CONT_ID\") #set index as ID \n",
        "conversation= pd.read_excel(r'Df_conversation.xlsx').set_index(\"CONV_ID\")\n",
        "mails= pd.read_excel(r'Df_mails.xlsx').set_index(\"MAIL_ID\")\n",
        "responses= pd.read_excel(r'Df_responses.xlsx').set_index(\"RESPONSE_ID\")"
      ],
      "execution_count": 91,
      "outputs": []
    },
    {
      "cell_type": "code",
      "metadata": {
        "colab": {
          "base_uri": "https://localhost:8080/",
          "height": 450
        },
        "id": "anRg8YdIYjX6",
        "outputId": "193fe404-ec42-4fdd-ce18-a5af64294e4d"
      },
      "source": [
        "mails.sort_values(by = \"MAIL_DATE\", axis = 0 )"
      ],
      "execution_count": 95,
      "outputs": [
        {
          "output_type": "execute_result",
          "data": {
            "text/html": [
              "<div>\n",
              "<style scoped>\n",
              "    .dataframe tbody tr th:only-of-type {\n",
              "        vertical-align: middle;\n",
              "    }\n",
              "\n",
              "    .dataframe tbody tr th {\n",
              "        vertical-align: top;\n",
              "    }\n",
              "\n",
              "    .dataframe thead th {\n",
              "        text-align: right;\n",
              "    }\n",
              "</style>\n",
              "<table border=\"1\" class=\"dataframe\">\n",
              "  <thead>\n",
              "    <tr style=\"text-align: right;\">\n",
              "      <th></th>\n",
              "      <th>CONT_ID</th>\n",
              "      <th>MAIL_MONTH</th>\n",
              "      <th>MAIL_DATE</th>\n",
              "    </tr>\n",
              "    <tr>\n",
              "      <th>MAIL_ID</th>\n",
              "      <th></th>\n",
              "      <th></th>\n",
              "      <th></th>\n",
              "    </tr>\n",
              "  </thead>\n",
              "  <tbody>\n",
              "    <tr>\n",
              "      <th>91</th>\n",
              "      <td>45</td>\n",
              "      <td>1</td>\n",
              "      <td>2015-01-01</td>\n",
              "    </tr>\n",
              "    <tr>\n",
              "      <th>191</th>\n",
              "      <td>94</td>\n",
              "      <td>1</td>\n",
              "      <td>2015-01-22</td>\n",
              "    </tr>\n",
              "    <tr>\n",
              "      <th>216</th>\n",
              "      <td>145</td>\n",
              "      <td>1</td>\n",
              "      <td>2015-01-23</td>\n",
              "    </tr>\n",
              "    <tr>\n",
              "      <th>276</th>\n",
              "      <td>55</td>\n",
              "      <td>2</td>\n",
              "      <td>2015-02-04</td>\n",
              "    </tr>\n",
              "    <tr>\n",
              "      <th>32</th>\n",
              "      <td>193</td>\n",
              "      <td>2</td>\n",
              "      <td>2015-02-06</td>\n",
              "    </tr>\n",
              "    <tr>\n",
              "      <th>...</th>\n",
              "      <td>...</td>\n",
              "      <td>...</td>\n",
              "      <td>...</td>\n",
              "    </tr>\n",
              "    <tr>\n",
              "      <th>37</th>\n",
              "      <td>198</td>\n",
              "      <td>12</td>\n",
              "      <td>2018-12-14</td>\n",
              "    </tr>\n",
              "    <tr>\n",
              "      <th>99</th>\n",
              "      <td>65</td>\n",
              "      <td>12</td>\n",
              "      <td>2018-12-15</td>\n",
              "    </tr>\n",
              "    <tr>\n",
              "      <th>76</th>\n",
              "      <td>40</td>\n",
              "      <td>12</td>\n",
              "      <td>2018-12-19</td>\n",
              "    </tr>\n",
              "    <tr>\n",
              "      <th>53</th>\n",
              "      <td>142</td>\n",
              "      <td>12</td>\n",
              "      <td>2018-12-22</td>\n",
              "    </tr>\n",
              "    <tr>\n",
              "      <th>300</th>\n",
              "      <td>150</td>\n",
              "      <td>12</td>\n",
              "      <td>2018-12-22</td>\n",
              "    </tr>\n",
              "  </tbody>\n",
              "</table>\n",
              "<p>300 rows × 3 columns</p>\n",
              "</div>"
            ],
            "text/plain": [
              "         CONT_ID  MAIL_MONTH  MAIL_DATE\n",
              "MAIL_ID                                \n",
              "91            45           1 2015-01-01\n",
              "191           94           1 2015-01-22\n",
              "216          145           1 2015-01-23\n",
              "276           55           2 2015-02-04\n",
              "32           193           2 2015-02-06\n",
              "...          ...         ...        ...\n",
              "37           198          12 2018-12-14\n",
              "99            65          12 2018-12-15\n",
              "76            40          12 2018-12-19\n",
              "53           142          12 2018-12-22\n",
              "300          150          12 2018-12-22\n",
              "\n",
              "[300 rows x 3 columns]"
            ]
          },
          "metadata": {},
          "execution_count": 95
        }
      ]
    },
    {
      "cell_type": "code",
      "metadata": {
        "id": "P6diDRN3bkZp"
      },
      "source": [
        ""
      ],
      "execution_count": 91,
      "outputs": []
    },
    {
      "cell_type": "code",
      "metadata": {
        "id": "8JUkx8_IVk0J"
      },
      "source": [
        ""
      ],
      "execution_count": 90,
      "outputs": []
    },
    {
      "cell_type": "code",
      "metadata": {
        "id": "9h0wGcoqahzu"
      },
      "source": [
        ""
      ],
      "execution_count": null,
      "outputs": []
    },
    {
      "cell_type": "code",
      "metadata": {
        "id": "eYNdbwMdZbRh"
      },
      "source": [
        "M"
      ],
      "execution_count": 65,
      "outputs": []
    },
    {
      "cell_type": "code",
      "metadata": {
        "id": "ylCfwOzDZhVA"
      },
      "source": [
        ""
      ],
      "execution_count": null,
      "outputs": []
    }
  ]
}