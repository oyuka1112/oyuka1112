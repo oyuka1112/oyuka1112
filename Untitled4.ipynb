{
  "nbformat": 4,
  "nbformat_minor": 0,
  "metadata": {
    "colab": {
      "name": "Untitled4.ipynb",
      "provenance": [],
      "authorship_tag": "ABX9TyMG8FqNwBoO9uClkyQUbJhn",
      "include_colab_link": true
    },
    "kernelspec": {
      "name": "python3",
      "display_name": "Python 3"
    },
    "language_info": {
      "name": "python"
    }
  },
  "cells": [
    {
      "cell_type": "markdown",
      "metadata": {
        "id": "view-in-github",
        "colab_type": "text"
      },
      "source": [
        "<a href=\"https://colab.research.google.com/github/oyuka1112/oyuka1112/blob/main/Untitled4.ipynb\" target=\"_parent\"><img src=\"https://colab.research.google.com/assets/colab-badge.svg\" alt=\"Open In Colab\"/></a>"
      ]
    },
    {
      "cell_type": "markdown",
      "metadata": {
        "id": "BAwZvzti7TVq"
      },
      "source": [
        "**A new insurance company opened in Maryland and sent promotional mail pieces to 500 contacts**\n",
        "- 200 Contacts – Person that the promotion was mailed to\n",
        "- 300 Mail pieces – Item that was sent in the mail\n",
        "- 200 Responses – Number of contacts responded to a mail piece\n",
        "- 50 Conversions – Number of contacts that responded to a mail piece and purchased insurance\n"
      ]
    },
    {
      "cell_type": "markdown",
      "metadata": {
        "id": "kunSv-d97reF"
      },
      "source": [
        "***Limitations***\n",
        "- A contact can only respond to mail that was sent to them, but multiple mail pieces can be sent to 1 contact. Contact information is stored in data frame \n",
        "*df_contacts*\n",
        "-\tEach mail piece can only be sent to 1 contact but is not guaranteed to have a response. Mail information is stored in data frame *df_mail*\n",
        "-\tEach mail piece can only have 1 response but is not guaranteed. Response information is stored in data frame *df_responses*\n",
        "-\tAfter the contact responds, if they want the insurance, they will convert their quote and make an actual purchase. This information is stored in data frame *df_conversions*\n"
      ]
    },
    {
      "cell_type": "markdown",
      "metadata": {
        "id": "a-hay9Yj7-tu"
      },
      "source": [
        "**Import all the libraries**"
      ]
    },
    {
      "cell_type": "code",
      "metadata": {
        "id": "RLpkF9dc7jMS"
      },
      "source": [
        "import pandas as pd\n",
        "from datetime import datetime\n",
        "import calendar"
      ],
      "execution_count": 36,
      "outputs": []
    },
    {
      "cell_type": "markdown",
      "metadata": {
        "id": "uvltRlnN8bEX"
      },
      "source": [
        "**Import and read all the files**"
      ]
    },
    {
      "cell_type": "code",
      "metadata": {
        "id": "t4XourxN8WuG"
      },
      "source": [
        "contacts = pd.read_excel(r'Df_contacts.txt.xlsx')  \n",
        "mails= pd.read_excel(r'Df_mails.xlsx')  \n",
        "responses= pd.read_excel(r'Df_responses.xlsx')  \n",
        "conversions= pd.read_excel(r'Df_conversion.xlsx') "
      ],
      "execution_count": 13,
      "outputs": []
    },
    {
      "cell_type": "markdown",
      "metadata": {
        "id": "imvc2mSs8yp2"
      },
      "source": [
        "**Familiarize with each datasets**"
      ]
    },
    {
      "cell_type": "code",
      "metadata": {
        "id": "cO9iloY59lrh"
      },
      "source": [
        "# pd.set_option(\"display.max_rows\", None, \"display.max_columns\", None) #to see the full datasets"
      ],
      "execution_count": null,
      "outputs": []
    },
    {
      "cell_type": "code",
      "metadata": {
        "colab": {
          "base_uri": "https://localhost:8080/",
          "height": 419
        },
        "id": "gAeMBwt28kbe",
        "outputId": "d6bb9ad2-10e5-4378-ebd0-e649c8741a68"
      },
      "source": [
        "contacts"
      ],
      "execution_count": 14,
      "outputs": [
        {
          "output_type": "execute_result",
          "data": {
            "text/html": [
              "<div>\n",
              "<style scoped>\n",
              "    .dataframe tbody tr th:only-of-type {\n",
              "        vertical-align: middle;\n",
              "    }\n",
              "\n",
              "    .dataframe tbody tr th {\n",
              "        vertical-align: top;\n",
              "    }\n",
              "\n",
              "    .dataframe thead th {\n",
              "        text-align: right;\n",
              "    }\n",
              "</style>\n",
              "<table border=\"1\" class=\"dataframe\">\n",
              "  <thead>\n",
              "    <tr style=\"text-align: right;\">\n",
              "      <th></th>\n",
              "      <th>CONT_ID</th>\n",
              "      <th>NAME</th>\n",
              "      <th>CITY</th>\n",
              "      <th>STATE</th>\n",
              "      <th>ZIP5</th>\n",
              "    </tr>\n",
              "  </thead>\n",
              "  <tbody>\n",
              "    <tr>\n",
              "      <th>0</th>\n",
              "      <td>1</td>\n",
              "      <td>GINA LAPONE</td>\n",
              "      <td>DALLAS</td>\n",
              "      <td>TX</td>\n",
              "      <td>98004</td>\n",
              "    </tr>\n",
              "    <tr>\n",
              "      <th>1</th>\n",
              "      <td>2</td>\n",
              "      <td>JAMES PAPIA</td>\n",
              "      <td>MIAMI BEACH</td>\n",
              "      <td>NY</td>\n",
              "      <td>39773</td>\n",
              "    </tr>\n",
              "    <tr>\n",
              "      <th>2</th>\n",
              "      <td>3</td>\n",
              "      <td>LAURIN H TEMPLETON</td>\n",
              "      <td>BOSTON</td>\n",
              "      <td>NJ</td>\n",
              "      <td>84404</td>\n",
              "    </tr>\n",
              "    <tr>\n",
              "      <th>3</th>\n",
              "      <td>4</td>\n",
              "      <td>PAUL SWEEZER</td>\n",
              "      <td>LAS VEGAS</td>\n",
              "      <td>NM</td>\n",
              "      <td>46723</td>\n",
              "    </tr>\n",
              "    <tr>\n",
              "      <th>4</th>\n",
              "      <td>5</td>\n",
              "      <td>A NAGAMINE</td>\n",
              "      <td>SAINT LOUIS</td>\n",
              "      <td>MO</td>\n",
              "      <td>28356</td>\n",
              "    </tr>\n",
              "    <tr>\n",
              "      <th>...</th>\n",
              "      <td>...</td>\n",
              "      <td>...</td>\n",
              "      <td>...</td>\n",
              "      <td>...</td>\n",
              "      <td>...</td>\n",
              "    </tr>\n",
              "    <tr>\n",
              "      <th>195</th>\n",
              "      <td>196</td>\n",
              "      <td>SHAWN LITTLE</td>\n",
              "      <td>MOORESTOWN</td>\n",
              "      <td>NY</td>\n",
              "      <td>85268</td>\n",
              "    </tr>\n",
              "    <tr>\n",
              "      <th>196</th>\n",
              "      <td>197</td>\n",
              "      <td>ALBIN NELSON</td>\n",
              "      <td>ORANGEBURG</td>\n",
              "      <td>IA</td>\n",
              "      <td>93704</td>\n",
              "    </tr>\n",
              "    <tr>\n",
              "      <th>197</th>\n",
              "      <td>198</td>\n",
              "      <td>STEVE GOEREE</td>\n",
              "      <td>SOUTHLAKE</td>\n",
              "      <td>AL</td>\n",
              "      <td>50125</td>\n",
              "    </tr>\n",
              "    <tr>\n",
              "      <th>198</th>\n",
              "      <td>199</td>\n",
              "      <td>JOAN BURILL</td>\n",
              "      <td>CARLSBAD</td>\n",
              "      <td>FL</td>\n",
              "      <td>21401</td>\n",
              "    </tr>\n",
              "    <tr>\n",
              "      <th>199</th>\n",
              "      <td>200</td>\n",
              "      <td>JOHN MCNULTY</td>\n",
              "      <td>LULA</td>\n",
              "      <td>FL</td>\n",
              "      <td>77338</td>\n",
              "    </tr>\n",
              "  </tbody>\n",
              "</table>\n",
              "<p>200 rows × 5 columns</p>\n",
              "</div>"
            ],
            "text/plain": [
              "     CONT_ID                NAME         CITY STATE   ZIP5\n",
              "0          1         GINA LAPONE       DALLAS    TX  98004\n",
              "1          2         JAMES PAPIA  MIAMI BEACH    NY  39773\n",
              "2          3  LAURIN H TEMPLETON       BOSTON    NJ  84404\n",
              "3          4        PAUL SWEEZER    LAS VEGAS    NM  46723\n",
              "4          5          A NAGAMINE  SAINT LOUIS    MO  28356\n",
              "..       ...                 ...          ...   ...    ...\n",
              "195      196        SHAWN LITTLE   MOORESTOWN    NY  85268\n",
              "196      197        ALBIN NELSON   ORANGEBURG    IA  93704\n",
              "197      198        STEVE GOEREE    SOUTHLAKE    AL  50125\n",
              "198      199         JOAN BURILL     CARLSBAD    FL  21401\n",
              "199      200        JOHN MCNULTY         LULA    FL  77338\n",
              "\n",
              "[200 rows x 5 columns]"
            ]
          },
          "metadata": {},
          "execution_count": 14
        }
      ]
    },
    {
      "cell_type": "code",
      "metadata": {
        "colab": {
          "base_uri": "https://localhost:8080/",
          "height": 419
        },
        "id": "9VzOBz1L8pXm",
        "outputId": "3288c4d9-b751-40ca-8859-35992e9471c1"
      },
      "source": [
        "mails"
      ],
      "execution_count": 15,
      "outputs": [
        {
          "output_type": "execute_result",
          "data": {
            "text/html": [
              "<div>\n",
              "<style scoped>\n",
              "    .dataframe tbody tr th:only-of-type {\n",
              "        vertical-align: middle;\n",
              "    }\n",
              "\n",
              "    .dataframe tbody tr th {\n",
              "        vertical-align: top;\n",
              "    }\n",
              "\n",
              "    .dataframe thead th {\n",
              "        text-align: right;\n",
              "    }\n",
              "</style>\n",
              "<table border=\"1\" class=\"dataframe\">\n",
              "  <thead>\n",
              "    <tr style=\"text-align: right;\">\n",
              "      <th></th>\n",
              "      <th>MAIL_ID</th>\n",
              "      <th>CONT_ID</th>\n",
              "      <th>MAIL_MONTH</th>\n",
              "      <th>MAIL_DATE</th>\n",
              "    </tr>\n",
              "  </thead>\n",
              "  <tbody>\n",
              "    <tr>\n",
              "      <th>0</th>\n",
              "      <td>1</td>\n",
              "      <td>35</td>\n",
              "      <td>6</td>\n",
              "      <td>2016-06-12</td>\n",
              "    </tr>\n",
              "    <tr>\n",
              "      <th>1</th>\n",
              "      <td>2</td>\n",
              "      <td>50</td>\n",
              "      <td>10</td>\n",
              "      <td>2017-10-27</td>\n",
              "    </tr>\n",
              "    <tr>\n",
              "      <th>2</th>\n",
              "      <td>3</td>\n",
              "      <td>148</td>\n",
              "      <td>11</td>\n",
              "      <td>2017-11-21</td>\n",
              "    </tr>\n",
              "    <tr>\n",
              "      <th>3</th>\n",
              "      <td>4</td>\n",
              "      <td>121</td>\n",
              "      <td>3</td>\n",
              "      <td>2018-03-16</td>\n",
              "    </tr>\n",
              "    <tr>\n",
              "      <th>4</th>\n",
              "      <td>5</td>\n",
              "      <td>28</td>\n",
              "      <td>5</td>\n",
              "      <td>2015-05-22</td>\n",
              "    </tr>\n",
              "    <tr>\n",
              "      <th>...</th>\n",
              "      <td>...</td>\n",
              "      <td>...</td>\n",
              "      <td>...</td>\n",
              "      <td>...</td>\n",
              "    </tr>\n",
              "    <tr>\n",
              "      <th>295</th>\n",
              "      <td>296</td>\n",
              "      <td>4</td>\n",
              "      <td>10</td>\n",
              "      <td>2015-10-23</td>\n",
              "    </tr>\n",
              "    <tr>\n",
              "      <th>296</th>\n",
              "      <td>297</td>\n",
              "      <td>41</td>\n",
              "      <td>5</td>\n",
              "      <td>2017-05-14</td>\n",
              "    </tr>\n",
              "    <tr>\n",
              "      <th>297</th>\n",
              "      <td>298</td>\n",
              "      <td>49</td>\n",
              "      <td>12</td>\n",
              "      <td>2016-12-16</td>\n",
              "    </tr>\n",
              "    <tr>\n",
              "      <th>298</th>\n",
              "      <td>299</td>\n",
              "      <td>120</td>\n",
              "      <td>7</td>\n",
              "      <td>2018-07-21</td>\n",
              "    </tr>\n",
              "    <tr>\n",
              "      <th>299</th>\n",
              "      <td>300</td>\n",
              "      <td>150</td>\n",
              "      <td>12</td>\n",
              "      <td>2018-12-22</td>\n",
              "    </tr>\n",
              "  </tbody>\n",
              "</table>\n",
              "<p>300 rows × 4 columns</p>\n",
              "</div>"
            ],
            "text/plain": [
              "     MAIL_ID  CONT_ID  MAIL_MONTH  MAIL_DATE\n",
              "0          1       35           6 2016-06-12\n",
              "1          2       50          10 2017-10-27\n",
              "2          3      148          11 2017-11-21\n",
              "3          4      121           3 2018-03-16\n",
              "4          5       28           5 2015-05-22\n",
              "..       ...      ...         ...        ...\n",
              "295      296        4          10 2015-10-23\n",
              "296      297       41           5 2017-05-14\n",
              "297      298       49          12 2016-12-16\n",
              "298      299      120           7 2018-07-21\n",
              "299      300      150          12 2018-12-22\n",
              "\n",
              "[300 rows x 4 columns]"
            ]
          },
          "metadata": {},
          "execution_count": 15
        }
      ]
    },
    {
      "cell_type": "code",
      "metadata": {
        "colab": {
          "base_uri": "https://localhost:8080/",
          "height": 419
        },
        "id": "DfLP40L88rs4",
        "outputId": "1917ccc5-cae3-41ef-a8d9-db86da53b8c2"
      },
      "source": [
        "responses"
      ],
      "execution_count": 16,
      "outputs": [
        {
          "output_type": "execute_result",
          "data": {
            "text/html": [
              "<div>\n",
              "<style scoped>\n",
              "    .dataframe tbody tr th:only-of-type {\n",
              "        vertical-align: middle;\n",
              "    }\n",
              "\n",
              "    .dataframe tbody tr th {\n",
              "        vertical-align: top;\n",
              "    }\n",
              "\n",
              "    .dataframe thead th {\n",
              "        text-align: right;\n",
              "    }\n",
              "</style>\n",
              "<table border=\"1\" class=\"dataframe\">\n",
              "  <thead>\n",
              "    <tr style=\"text-align: right;\">\n",
              "      <th></th>\n",
              "      <th>RESPONSE_ID</th>\n",
              "      <th>MAIL_ID</th>\n",
              "      <th>RESP_DATE</th>\n",
              "    </tr>\n",
              "  </thead>\n",
              "  <tbody>\n",
              "    <tr>\n",
              "      <th>0</th>\n",
              "      <td>1</td>\n",
              "      <td>10</td>\n",
              "      <td>2019-12-10</td>\n",
              "    </tr>\n",
              "    <tr>\n",
              "      <th>1</th>\n",
              "      <td>2</td>\n",
              "      <td>205</td>\n",
              "      <td>2019-01-04</td>\n",
              "    </tr>\n",
              "    <tr>\n",
              "      <th>2</th>\n",
              "      <td>3</td>\n",
              "      <td>176</td>\n",
              "      <td>2019-03-21</td>\n",
              "    </tr>\n",
              "    <tr>\n",
              "      <th>3</th>\n",
              "      <td>4</td>\n",
              "      <td>166</td>\n",
              "      <td>2019-04-21</td>\n",
              "    </tr>\n",
              "    <tr>\n",
              "      <th>4</th>\n",
              "      <td>5</td>\n",
              "      <td>160</td>\n",
              "      <td>2019-12-13</td>\n",
              "    </tr>\n",
              "    <tr>\n",
              "      <th>...</th>\n",
              "      <td>...</td>\n",
              "      <td>...</td>\n",
              "      <td>...</td>\n",
              "    </tr>\n",
              "    <tr>\n",
              "      <th>195</th>\n",
              "      <td>196</td>\n",
              "      <td>234</td>\n",
              "      <td>2019-04-22</td>\n",
              "    </tr>\n",
              "    <tr>\n",
              "      <th>196</th>\n",
              "      <td>197</td>\n",
              "      <td>272</td>\n",
              "      <td>2019-03-18</td>\n",
              "    </tr>\n",
              "    <tr>\n",
              "      <th>197</th>\n",
              "      <td>198</td>\n",
              "      <td>18</td>\n",
              "      <td>2019-12-18</td>\n",
              "    </tr>\n",
              "    <tr>\n",
              "      <th>198</th>\n",
              "      <td>199</td>\n",
              "      <td>198</td>\n",
              "      <td>2019-12-17</td>\n",
              "    </tr>\n",
              "    <tr>\n",
              "      <th>199</th>\n",
              "      <td>200</td>\n",
              "      <td>47</td>\n",
              "      <td>2019-03-18</td>\n",
              "    </tr>\n",
              "  </tbody>\n",
              "</table>\n",
              "<p>200 rows × 3 columns</p>\n",
              "</div>"
            ],
            "text/plain": [
              "     RESPONSE_ID  MAIL_ID  RESP_DATE\n",
              "0              1       10 2019-12-10\n",
              "1              2      205 2019-01-04\n",
              "2              3      176 2019-03-21\n",
              "3              4      166 2019-04-21\n",
              "4              5      160 2019-12-13\n",
              "..           ...      ...        ...\n",
              "195          196      234 2019-04-22\n",
              "196          197      272 2019-03-18\n",
              "197          198       18 2019-12-18\n",
              "198          199      198 2019-12-17\n",
              "199          200       47 2019-03-18\n",
              "\n",
              "[200 rows x 3 columns]"
            ]
          },
          "metadata": {},
          "execution_count": 16
        }
      ]
    },
    {
      "cell_type": "code",
      "metadata": {
        "colab": {
          "base_uri": "https://localhost:8080/",
          "height": 204
        },
        "id": "dby4-d238vUa",
        "outputId": "d28fbc6c-2ed7-49cd-d924-7bcce0e33f2c"
      },
      "source": [
        "conversions.tail()"
      ],
      "execution_count": 19,
      "outputs": [
        {
          "output_type": "execute_result",
          "data": {
            "text/html": [
              "<div>\n",
              "<style scoped>\n",
              "    .dataframe tbody tr th:only-of-type {\n",
              "        vertical-align: middle;\n",
              "    }\n",
              "\n",
              "    .dataframe tbody tr th {\n",
              "        vertical-align: top;\n",
              "    }\n",
              "\n",
              "    .dataframe thead th {\n",
              "        text-align: right;\n",
              "    }\n",
              "</style>\n",
              "<table border=\"1\" class=\"dataframe\">\n",
              "  <thead>\n",
              "    <tr style=\"text-align: right;\">\n",
              "      <th></th>\n",
              "      <th>CONV_ID</th>\n",
              "      <th>RESPONSE_ID</th>\n",
              "      <th>CONV_DATE</th>\n",
              "    </tr>\n",
              "  </thead>\n",
              "  <tbody>\n",
              "    <tr>\n",
              "      <th>45</th>\n",
              "      <td>46</td>\n",
              "      <td>170</td>\n",
              "      <td>2020-06-01</td>\n",
              "    </tr>\n",
              "    <tr>\n",
              "      <th>46</th>\n",
              "      <td>47</td>\n",
              "      <td>24</td>\n",
              "      <td>2020-11-08</td>\n",
              "    </tr>\n",
              "    <tr>\n",
              "      <th>47</th>\n",
              "      <td>48</td>\n",
              "      <td>78</td>\n",
              "      <td>2020-07-24</td>\n",
              "    </tr>\n",
              "    <tr>\n",
              "      <th>48</th>\n",
              "      <td>49</td>\n",
              "      <td>182</td>\n",
              "      <td>2020-03-03</td>\n",
              "    </tr>\n",
              "    <tr>\n",
              "      <th>49</th>\n",
              "      <td>50</td>\n",
              "      <td>43</td>\n",
              "      <td>2020-12-26</td>\n",
              "    </tr>\n",
              "  </tbody>\n",
              "</table>\n",
              "</div>"
            ],
            "text/plain": [
              "    CONV_ID  RESPONSE_ID  CONV_DATE\n",
              "45       46          170 2020-06-01\n",
              "46       47           24 2020-11-08\n",
              "47       48           78 2020-07-24\n",
              "48       49          182 2020-03-03\n",
              "49       50           43 2020-12-26"
            ]
          },
          "metadata": {},
          "execution_count": 19
        }
      ]
    },
    {
      "cell_type": "markdown",
      "metadata": {
        "id": "ixoabkNs8_zD"
      },
      "source": [
        "- \t**Write python code that will produce a data frame that contains the contact name, mail date and conversion date of all contacts have converted their insurance policy**\n",
        "-  a.\tYou can assume that all ID columns above are integers\n",
        "-  b.\tWhen available, please specify the join type. Do not rely on defaults\n"
      ]
    },
    {
      "cell_type": "code",
      "metadata": {
        "id": "a9lwNL9v9CNS"
      },
      "source": [
        "df1 = pd.merge(conversions, responses  , on=['RESPONSE_ID'], how='inner').sort_values('RESPONSE_ID') #merge conversions and responses datasets, no duplicates on each\n",
        "no_dup_mails = mails.drop_duplicates(subset =['CONT_ID'], keep = 'first')  #drop the duplicated responses from a same contact id\n",
        "df2 = pd.merge(df1, no_dup_mails  , on=['MAIL_ID'], how='inner').sort_values('MAIL_ID')  #merge the previous one with mails with no duplication\n",
        "df3 = pd.merge(df2, contacts  , on=['CONT_ID'], how='inner').sort_values(\"CONT_ID\").sort_index() #merge the previous one with contacts\n",
        "df3 = df3[['NAME', 'MAIL_DATE', 'CONV_DATE']]\n",
        "#df3 is the data frame that contains the contact name, mail date and conversion date of all contacts have converted their insurance policy"
      ],
      "execution_count": 27,
      "outputs": []
    },
    {
      "cell_type": "markdown",
      "metadata": {
        "id": "25JwrLrS_kJv"
      },
      "source": [
        "- **Write python code that will give us the percentage of response per city**"
      ]
    },
    {
      "cell_type": "code",
      "metadata": {
        "colab": {
          "base_uri": "https://localhost:8080/",
          "height": 419
        },
        "id": "HTRf1F-5_mnO",
        "outputId": "b103a01a-2d33-4f59-cf96-0de5fa48de5c"
      },
      "source": [
        "#First merge the responses dataset to contacts, so that we can look at the cities where responses came from.\n",
        "no_dup_mails = mails.drop_duplicates(subset =['CONT_ID'], keep = 'first')  #drop the duplicated responses from a same contact id\n",
        "dff1 = pd.merge(responses, no_dup_mails  , on=['MAIL_ID'], how='inner')  #merge responses one with mails with no duplication\n",
        "dff2 = pd.merge(dff1, contacts  , on=['CONT_ID'], how='inner').sort_values(\"CONT_ID\").sort_index()\n",
        "dff2[['CITY']].nunique() #check unique values in city column\n",
        "#Found that some cities have same name but different state\n",
        "#Join the city and state \n",
        "dff2['CITY_STATE'] = dff2[['CITY', 'STATE']].agg(', '.join, axis=1)\n",
        "series=(dff2['CITY_STATE'].value_counts()/dff2['CITY_STATE'].count())*100       #Found the percentile of each cities response\n",
        "series1 = series.to_frame()    #Set it to dataframe\n",
        "series1=series1.reset_index().rename(columns ={'index':'CITY_STATE', 'CITY_STATE':'PERCENTAGE'})  #Reset the index for clarification\n",
        "series1[\"PERCENTAGE\"] = (series1.PERCENTAGE).apply(lambda x: round(x,2))  #Round the percentile for 2 decimals\n",
        "series1"
      ],
      "execution_count": 35,
      "outputs": [
        {
          "output_type": "execute_result",
          "data": {
            "text/html": [
              "<div>\n",
              "<style scoped>\n",
              "    .dataframe tbody tr th:only-of-type {\n",
              "        vertical-align: middle;\n",
              "    }\n",
              "\n",
              "    .dataframe tbody tr th {\n",
              "        vertical-align: top;\n",
              "    }\n",
              "\n",
              "    .dataframe thead th {\n",
              "        text-align: right;\n",
              "    }\n",
              "</style>\n",
              "<table border=\"1\" class=\"dataframe\">\n",
              "  <thead>\n",
              "    <tr style=\"text-align: right;\">\n",
              "      <th></th>\n",
              "      <th>CITY_STATE</th>\n",
              "      <th>PERCENTAGE</th>\n",
              "    </tr>\n",
              "  </thead>\n",
              "  <tbody>\n",
              "    <tr>\n",
              "      <th>0</th>\n",
              "      <td>LAFAYETTE, KY</td>\n",
              "      <td>0.76</td>\n",
              "    </tr>\n",
              "    <tr>\n",
              "      <th>1</th>\n",
              "      <td>LAKEWOOD, AR</td>\n",
              "      <td>0.76</td>\n",
              "    </tr>\n",
              "    <tr>\n",
              "      <th>2</th>\n",
              "      <td>COFFEYVILLE, ID</td>\n",
              "      <td>0.76</td>\n",
              "    </tr>\n",
              "    <tr>\n",
              "      <th>3</th>\n",
              "      <td>NEW BERN, MD</td>\n",
              "      <td>0.76</td>\n",
              "    </tr>\n",
              "    <tr>\n",
              "      <th>4</th>\n",
              "      <td>CHARLOTTE, MD</td>\n",
              "      <td>0.76</td>\n",
              "    </tr>\n",
              "    <tr>\n",
              "      <th>...</th>\n",
              "      <td>...</td>\n",
              "      <td>...</td>\n",
              "    </tr>\n",
              "    <tr>\n",
              "      <th>127</th>\n",
              "      <td>MIAMI BEACH, NY</td>\n",
              "      <td>0.76</td>\n",
              "    </tr>\n",
              "    <tr>\n",
              "      <th>128</th>\n",
              "      <td>FORT WORTH, FL</td>\n",
              "      <td>0.76</td>\n",
              "    </tr>\n",
              "    <tr>\n",
              "      <th>129</th>\n",
              "      <td>BOCA RATON, FL</td>\n",
              "      <td>0.76</td>\n",
              "    </tr>\n",
              "    <tr>\n",
              "      <th>130</th>\n",
              "      <td>GREENVILLE, SD</td>\n",
              "      <td>0.76</td>\n",
              "    </tr>\n",
              "    <tr>\n",
              "      <th>131</th>\n",
              "      <td>TAMPA, VA</td>\n",
              "      <td>0.76</td>\n",
              "    </tr>\n",
              "  </tbody>\n",
              "</table>\n",
              "<p>132 rows × 2 columns</p>\n",
              "</div>"
            ],
            "text/plain": [
              "          CITY_STATE  PERCENTAGE\n",
              "0      LAFAYETTE, KY        0.76\n",
              "1       LAKEWOOD, AR        0.76\n",
              "2    COFFEYVILLE, ID        0.76\n",
              "3       NEW BERN, MD        0.76\n",
              "4      CHARLOTTE, MD        0.76\n",
              "..               ...         ...\n",
              "127  MIAMI BEACH, NY        0.76\n",
              "128   FORT WORTH, FL        0.76\n",
              "129   BOCA RATON, FL        0.76\n",
              "130   GREENVILLE, SD        0.76\n",
              "131        TAMPA, VA        0.76\n",
              "\n",
              "[132 rows x 2 columns]"
            ]
          },
          "metadata": {},
          "execution_count": 35
        }
      ]
    },
    {
      "cell_type": "markdown",
      "metadata": {
        "id": "iE2QvUj8B8I0"
      },
      "source": [
        "- **Write python code that will give us the response time for each mail piece that has been responded to.**"
      ]
    },
    {
      "cell_type": "code",
      "metadata": {
        "colab": {
          "base_uri": "https://localhost:8080/",
          "height": 204
        },
        "id": "o4kIeWzAIq50",
        "outputId": "c521c6f0-f8e2-4696-c464-5f3cb84c9c6e"
      },
      "source": [
        "res_m = pd.merge(mails, responses , on=['MAIL_ID'], how='inner').sort_values('RESPONSE_ID')  #merge the \n",
        "res_m['TIME_DIF_YEAR'] = ((pd.to_datetime(res_m['RESP_DATE']) - pd.to_datetime(res_m['MAIL_DATE'])).dt.total_seconds() / 60 /60 /24 /365)   #convert the time difference to year\n",
        "res_m['TIME_DIF_YEAR'] = (res_m.TIME_DIF_YEAR).apply(lambda x: round(x,2))     #round it to 2 decimals\n",
        "res_m.head()"
      ],
      "execution_count": 62,
      "outputs": [
        {
          "output_type": "execute_result",
          "data": {
            "text/html": [
              "<div>\n",
              "<style scoped>\n",
              "    .dataframe tbody tr th:only-of-type {\n",
              "        vertical-align: middle;\n",
              "    }\n",
              "\n",
              "    .dataframe tbody tr th {\n",
              "        vertical-align: top;\n",
              "    }\n",
              "\n",
              "    .dataframe thead th {\n",
              "        text-align: right;\n",
              "    }\n",
              "</style>\n",
              "<table border=\"1\" class=\"dataframe\">\n",
              "  <thead>\n",
              "    <tr style=\"text-align: right;\">\n",
              "      <th></th>\n",
              "      <th>MAIL_ID</th>\n",
              "      <th>CONT_ID</th>\n",
              "      <th>MAIL_MONTH</th>\n",
              "      <th>MAIL_DATE</th>\n",
              "      <th>VERBOSE_MAIL_MONTH</th>\n",
              "      <th>RESPONSE_ID</th>\n",
              "      <th>RESP_DATE</th>\n",
              "      <th>TIME_DIF_YEAR</th>\n",
              "    </tr>\n",
              "  </thead>\n",
              "  <tbody>\n",
              "    <tr>\n",
              "      <th>5</th>\n",
              "      <td>10</td>\n",
              "      <td>192</td>\n",
              "      <td>8</td>\n",
              "      <td>2016-08-27</td>\n",
              "      <td>Aug</td>\n",
              "      <td>1</td>\n",
              "      <td>2019-12-10</td>\n",
              "      <td>3.29</td>\n",
              "    </tr>\n",
              "    <tr>\n",
              "      <th>132</th>\n",
              "      <td>205</td>\n",
              "      <td>132</td>\n",
              "      <td>11</td>\n",
              "      <td>2015-11-03</td>\n",
              "      <td>Nov</td>\n",
              "      <td>2</td>\n",
              "      <td>2019-01-04</td>\n",
              "      <td>3.17</td>\n",
              "    </tr>\n",
              "    <tr>\n",
              "      <th>111</th>\n",
              "      <td>176</td>\n",
              "      <td>112</td>\n",
              "      <td>8</td>\n",
              "      <td>2015-08-09</td>\n",
              "      <td>Aug</td>\n",
              "      <td>3</td>\n",
              "      <td>2019-03-21</td>\n",
              "      <td>3.62</td>\n",
              "    </tr>\n",
              "    <tr>\n",
              "      <th>105</th>\n",
              "      <td>166</td>\n",
              "      <td>160</td>\n",
              "      <td>7</td>\n",
              "      <td>2015-07-16</td>\n",
              "      <td>Jul</td>\n",
              "      <td>4</td>\n",
              "      <td>2019-04-21</td>\n",
              "      <td>3.77</td>\n",
              "    </tr>\n",
              "    <tr>\n",
              "      <th>100</th>\n",
              "      <td>160</td>\n",
              "      <td>63</td>\n",
              "      <td>10</td>\n",
              "      <td>2017-10-21</td>\n",
              "      <td>Oct</td>\n",
              "      <td>5</td>\n",
              "      <td>2019-12-13</td>\n",
              "      <td>2.15</td>\n",
              "    </tr>\n",
              "  </tbody>\n",
              "</table>\n",
              "</div>"
            ],
            "text/plain": [
              "     MAIL_ID  CONT_ID  MAIL_MONTH  ... RESPONSE_ID  RESP_DATE  TIME_DIF_YEAR\n",
              "5         10      192           8  ...           1 2019-12-10           3.29\n",
              "132      205      132          11  ...           2 2019-01-04           3.17\n",
              "111      176      112           8  ...           3 2019-03-21           3.62\n",
              "105      166      160           7  ...           4 2019-04-21           3.77\n",
              "100      160       63          10  ...           5 2019-12-13           2.15\n",
              "\n",
              "[5 rows x 8 columns]"
            ]
          },
          "metadata": {},
          "execution_count": 62
        }
      ]
    },
    {
      "cell_type": "markdown",
      "metadata": {
        "id": "sJgbwKuaCExe"
      },
      "source": [
        "- **Write python code that will tell us which mail month got the most responses.**"
      ]
    },
    {
      "cell_type": "code",
      "metadata": {
        "colab": {
          "base_uri": "https://localhost:8080/",
          "height": 37
        },
        "id": "FheGJVu1CD5V",
        "outputId": "5fd99dbd-f52a-4306-ab80-ca1547fb313b"
      },
      "source": [
        "resp_date = responses['RESP_DATE'].groupby(responses.RESP_DATE.dt.month).agg('count')  #Group the months and count how many\n",
        "resp_date.idxmax()  #Find the maximum month number\n",
        "calendar.month_name[resp_date.idxmax()]  #convert it to verbose month if needed"
      ],
      "execution_count": 42,
      "outputs": [
        {
          "output_type": "execute_result",
          "data": {
            "application/vnd.google.colaboratory.intrinsic+json": {
              "type": "string"
            },
            "text/plain": [
              "'April'"
            ]
          },
          "metadata": {},
          "execution_count": 42
        }
      ]
    },
    {
      "cell_type": "markdown",
      "metadata": {
        "id": "oEjxiG1dCzRq"
      },
      "source": [
        "- **Write python code that will tell us which mail month got the most conversions.**"
      ]
    },
    {
      "cell_type": "code",
      "metadata": {
        "colab": {
          "base_uri": "https://localhost:8080/",
          "height": 37
        },
        "id": "ko7rYSKNB7RA",
        "outputId": "6cdea846-1a33-4221-c3a9-1c0e4582b30e"
      },
      "source": [
        "df_con = conversions['CONV_DATE'].groupby(conversions.CONV_DATE.dt.month).agg('count')\n",
        "df_con.idxmax() #Find the maximum month number\n",
        "calendar.month_name[df_con.idxmax()] #convert it to month"
      ],
      "execution_count": 43,
      "outputs": [
        {
          "output_type": "execute_result",
          "data": {
            "application/vnd.google.colaboratory.intrinsic+json": {
              "type": "string"
            },
            "text/plain": [
              "'May'"
            ]
          },
          "metadata": {},
          "execution_count": 43
        }
      ]
    },
    {
      "cell_type": "markdown",
      "metadata": {
        "id": "Ks2PR_JGDU5b"
      },
      "source": [
        "- **Given that MAIL_MONTH 1 = January 2 = February, … 12 = December, create a new column in df_mail that will give us the verbose mail month**"
      ]
    },
    {
      "cell_type": "code",
      "metadata": {
        "id": "Py1ClHH_DZKy"
      },
      "source": [
        "mails['VERBOSE_MAIL_MONTH'] = mails['MAIL_MONTH'].apply(lambda x: calendar.month_abbr[x])"
      ],
      "execution_count": 44,
      "outputs": []
    },
    {
      "cell_type": "markdown",
      "metadata": {
        "id": "f3n0rPjJDeEr"
      },
      "source": [
        "- **Write python code that will create the FIRST_NAME and LAST_NAME column from the value found in the NAME column.**\n",
        "- a.\tAssume that the NAME column is [FIRST_NAME] [LAST_NAME] separated with a space\n",
        "- b.\tAssume every NAME contains first and last name. Invalid names have already been filtered out"
      ]
    },
    {
      "cell_type": "code",
      "metadata": {
        "colab": {
          "base_uri": "https://localhost:8080/",
          "height": 419
        },
        "id": "9dSVM5oRDdmN",
        "outputId": "f533a956-9b9e-4be8-bf81-82937694054c"
      },
      "source": [
        "names = contacts['NAME'].to_frame() #Get names from contacts\n",
        "names = names['NAME'].str.split(',', expand = True).add_prefix('NAME')  #Split it with ',' \n",
        "names1 = names['NAME0'].str.split(',', expand = True).add_prefix('NAME')  #If there is MD, PhD, that will be in 'NAME1' column, the full name will bi in 'NAME0'\n",
        "contacts['FIRST NAME'] = names1['NAME0'].str.split().str[0].astype(str, errors='ignore')  #Fisrt name\n",
        "contacts['LAST NAME'] = names1['NAME0'].str.split().str[-1].astype(str, errors='ignore')  #There is last name that PAUL-JOHN etc.,\n",
        "contacts['LAST NAME'] = contacts['LAST NAME'].str.split('-').str[-1].astype(str, errors='ignore')  #replace it with the name after '-' \n",
        "contacts"
      ],
      "execution_count": 56,
      "outputs": [
        {
          "output_type": "execute_result",
          "data": {
            "text/html": [
              "<div>\n",
              "<style scoped>\n",
              "    .dataframe tbody tr th:only-of-type {\n",
              "        vertical-align: middle;\n",
              "    }\n",
              "\n",
              "    .dataframe tbody tr th {\n",
              "        vertical-align: top;\n",
              "    }\n",
              "\n",
              "    .dataframe thead th {\n",
              "        text-align: right;\n",
              "    }\n",
              "</style>\n",
              "<table border=\"1\" class=\"dataframe\">\n",
              "  <thead>\n",
              "    <tr style=\"text-align: right;\">\n",
              "      <th></th>\n",
              "      <th>CONT_ID</th>\n",
              "      <th>NAME</th>\n",
              "      <th>CITY</th>\n",
              "      <th>STATE</th>\n",
              "      <th>ZIP5</th>\n",
              "      <th>FIRST NAME</th>\n",
              "      <th>LAST NAME</th>\n",
              "    </tr>\n",
              "  </thead>\n",
              "  <tbody>\n",
              "    <tr>\n",
              "      <th>0</th>\n",
              "      <td>1</td>\n",
              "      <td>GINA LAPONE</td>\n",
              "      <td>DALLAS</td>\n",
              "      <td>TX</td>\n",
              "      <td>98004</td>\n",
              "      <td>GINA</td>\n",
              "      <td>LAPONE</td>\n",
              "    </tr>\n",
              "    <tr>\n",
              "      <th>1</th>\n",
              "      <td>2</td>\n",
              "      <td>JAMES PAPIA</td>\n",
              "      <td>MIAMI BEACH</td>\n",
              "      <td>NY</td>\n",
              "      <td>39773</td>\n",
              "      <td>JAMES</td>\n",
              "      <td>PAPIA</td>\n",
              "    </tr>\n",
              "    <tr>\n",
              "      <th>2</th>\n",
              "      <td>3</td>\n",
              "      <td>LAURIN H TEMPLETON</td>\n",
              "      <td>BOSTON</td>\n",
              "      <td>NJ</td>\n",
              "      <td>84404</td>\n",
              "      <td>LAURIN</td>\n",
              "      <td>TEMPLETON</td>\n",
              "    </tr>\n",
              "    <tr>\n",
              "      <th>3</th>\n",
              "      <td>4</td>\n",
              "      <td>PAUL SWEEZER</td>\n",
              "      <td>LAS VEGAS</td>\n",
              "      <td>NM</td>\n",
              "      <td>46723</td>\n",
              "      <td>PAUL</td>\n",
              "      <td>SWEEZER</td>\n",
              "    </tr>\n",
              "    <tr>\n",
              "      <th>4</th>\n",
              "      <td>5</td>\n",
              "      <td>A NAGAMINE</td>\n",
              "      <td>SAINT LOUIS</td>\n",
              "      <td>MO</td>\n",
              "      <td>28356</td>\n",
              "      <td>A</td>\n",
              "      <td>NAGAMINE</td>\n",
              "    </tr>\n",
              "    <tr>\n",
              "      <th>...</th>\n",
              "      <td>...</td>\n",
              "      <td>...</td>\n",
              "      <td>...</td>\n",
              "      <td>...</td>\n",
              "      <td>...</td>\n",
              "      <td>...</td>\n",
              "      <td>...</td>\n",
              "    </tr>\n",
              "    <tr>\n",
              "      <th>195</th>\n",
              "      <td>196</td>\n",
              "      <td>SHAWN LITTLE</td>\n",
              "      <td>MOORESTOWN</td>\n",
              "      <td>NY</td>\n",
              "      <td>85268</td>\n",
              "      <td>SHAWN</td>\n",
              "      <td>LITTLE</td>\n",
              "    </tr>\n",
              "    <tr>\n",
              "      <th>196</th>\n",
              "      <td>197</td>\n",
              "      <td>ALBIN NELSON</td>\n",
              "      <td>ORANGEBURG</td>\n",
              "      <td>IA</td>\n",
              "      <td>93704</td>\n",
              "      <td>ALBIN</td>\n",
              "      <td>NELSON</td>\n",
              "    </tr>\n",
              "    <tr>\n",
              "      <th>197</th>\n",
              "      <td>198</td>\n",
              "      <td>STEVE GOEREE</td>\n",
              "      <td>SOUTHLAKE</td>\n",
              "      <td>AL</td>\n",
              "      <td>50125</td>\n",
              "      <td>STEVE</td>\n",
              "      <td>GOEREE</td>\n",
              "    </tr>\n",
              "    <tr>\n",
              "      <th>198</th>\n",
              "      <td>199</td>\n",
              "      <td>JOAN BURILL</td>\n",
              "      <td>CARLSBAD</td>\n",
              "      <td>FL</td>\n",
              "      <td>21401</td>\n",
              "      <td>JOAN</td>\n",
              "      <td>BURILL</td>\n",
              "    </tr>\n",
              "    <tr>\n",
              "      <th>199</th>\n",
              "      <td>200</td>\n",
              "      <td>JOHN MCNULTY</td>\n",
              "      <td>LULA</td>\n",
              "      <td>FL</td>\n",
              "      <td>77338</td>\n",
              "      <td>JOHN</td>\n",
              "      <td>MCNULTY</td>\n",
              "    </tr>\n",
              "  </tbody>\n",
              "</table>\n",
              "<p>200 rows × 7 columns</p>\n",
              "</div>"
            ],
            "text/plain": [
              "     CONT_ID                NAME         CITY  ...   ZIP5  FIRST NAME  LAST NAME\n",
              "0          1         GINA LAPONE       DALLAS  ...  98004        GINA     LAPONE\n",
              "1          2         JAMES PAPIA  MIAMI BEACH  ...  39773       JAMES      PAPIA\n",
              "2          3  LAURIN H TEMPLETON       BOSTON  ...  84404      LAURIN  TEMPLETON\n",
              "3          4        PAUL SWEEZER    LAS VEGAS  ...  46723        PAUL    SWEEZER\n",
              "4          5          A NAGAMINE  SAINT LOUIS  ...  28356           A   NAGAMINE\n",
              "..       ...                 ...          ...  ...    ...         ...        ...\n",
              "195      196        SHAWN LITTLE   MOORESTOWN  ...  85268       SHAWN     LITTLE\n",
              "196      197        ALBIN NELSON   ORANGEBURG  ...  93704       ALBIN     NELSON\n",
              "197      198        STEVE GOEREE    SOUTHLAKE  ...  50125       STEVE     GOEREE\n",
              "198      199         JOAN BURILL     CARLSBAD  ...  21401        JOAN     BURILL\n",
              "199      200        JOHN MCNULTY         LULA  ...  77338        JOHN    MCNULTY\n",
              "\n",
              "[200 rows x 7 columns]"
            ]
          },
          "metadata": {},
          "execution_count": 56
        }
      ]
    },
    {
      "cell_type": "markdown",
      "metadata": {
        "id": "2GE5b7_yE67q"
      },
      "source": [
        "- **Write python code that will create a new data frame that contains only contacts from Maryland**\n",
        "- a.\tThe state column is the state abbreviation, not the state name. Maryland = MD"
      ]
    },
    {
      "cell_type": "code",
      "metadata": {
        "colab": {
          "base_uri": "https://localhost:8080/",
          "height": 266
        },
        "id": "-rsfEDQdFDJf",
        "outputId": "7b7c7b31-d980-493e-b3a1-207bc6ec1ea2"
      },
      "source": [
        "contacts.loc[contacts.STATE == 'MD']"
      ],
      "execution_count": 57,
      "outputs": [
        {
          "output_type": "execute_result",
          "data": {
            "text/html": [
              "<div>\n",
              "<style scoped>\n",
              "    .dataframe tbody tr th:only-of-type {\n",
              "        vertical-align: middle;\n",
              "    }\n",
              "\n",
              "    .dataframe tbody tr th {\n",
              "        vertical-align: top;\n",
              "    }\n",
              "\n",
              "    .dataframe thead th {\n",
              "        text-align: right;\n",
              "    }\n",
              "</style>\n",
              "<table border=\"1\" class=\"dataframe\">\n",
              "  <thead>\n",
              "    <tr style=\"text-align: right;\">\n",
              "      <th></th>\n",
              "      <th>CONT_ID</th>\n",
              "      <th>NAME</th>\n",
              "      <th>CITY</th>\n",
              "      <th>STATE</th>\n",
              "      <th>ZIP5</th>\n",
              "      <th>FIRST NAME</th>\n",
              "      <th>LAST NAME</th>\n",
              "    </tr>\n",
              "  </thead>\n",
              "  <tbody>\n",
              "    <tr>\n",
              "      <th>57</th>\n",
              "      <td>58</td>\n",
              "      <td>JOE COVEY LANDERS</td>\n",
              "      <td>URBANDALE</td>\n",
              "      <td>MD</td>\n",
              "      <td>11801</td>\n",
              "      <td>JOE</td>\n",
              "      <td>LANDERS</td>\n",
              "    </tr>\n",
              "    <tr>\n",
              "      <th>120</th>\n",
              "      <td>121</td>\n",
              "      <td>ROBERT LUNDGREN</td>\n",
              "      <td>SHAWNEE</td>\n",
              "      <td>MD</td>\n",
              "      <td>23227</td>\n",
              "      <td>ROBERT</td>\n",
              "      <td>LUNDGREN</td>\n",
              "    </tr>\n",
              "    <tr>\n",
              "      <th>125</th>\n",
              "      <td>126</td>\n",
              "      <td>PATRICK STALLINGS</td>\n",
              "      <td>CHARLOTTE</td>\n",
              "      <td>MD</td>\n",
              "      <td>5476</td>\n",
              "      <td>PATRICK</td>\n",
              "      <td>STALLINGS</td>\n",
              "    </tr>\n",
              "    <tr>\n",
              "      <th>162</th>\n",
              "      <td>163</td>\n",
              "      <td>MICHAEL HOUCK</td>\n",
              "      <td>SOUTHAVEN</td>\n",
              "      <td>MD</td>\n",
              "      <td>11729</td>\n",
              "      <td>MICHAEL</td>\n",
              "      <td>HOUCK</td>\n",
              "    </tr>\n",
              "    <tr>\n",
              "      <th>164</th>\n",
              "      <td>165</td>\n",
              "      <td>JAMES HEITZ</td>\n",
              "      <td>JENKS</td>\n",
              "      <td>MD</td>\n",
              "      <td>93727</td>\n",
              "      <td>JAMES</td>\n",
              "      <td>HEITZ</td>\n",
              "    </tr>\n",
              "    <tr>\n",
              "      <th>184</th>\n",
              "      <td>185</td>\n",
              "      <td>JOE ALERS</td>\n",
              "      <td>NEW BERN</td>\n",
              "      <td>MD</td>\n",
              "      <td>3031</td>\n",
              "      <td>JOE</td>\n",
              "      <td>ALERS</td>\n",
              "    </tr>\n",
              "    <tr>\n",
              "      <th>185</th>\n",
              "      <td>186</td>\n",
              "      <td>USA PEGORS</td>\n",
              "      <td>EL DORADO</td>\n",
              "      <td>MD</td>\n",
              "      <td>97504</td>\n",
              "      <td>USA</td>\n",
              "      <td>PEGORS</td>\n",
              "    </tr>\n",
              "  </tbody>\n",
              "</table>\n",
              "</div>"
            ],
            "text/plain": [
              "     CONT_ID               NAME       CITY STATE   ZIP5 FIRST NAME  LAST NAME\n",
              "57        58  JOE COVEY LANDERS  URBANDALE    MD  11801        JOE    LANDERS\n",
              "120      121    ROBERT LUNDGREN    SHAWNEE    MD  23227     ROBERT   LUNDGREN\n",
              "125      126  PATRICK STALLINGS  CHARLOTTE    MD   5476    PATRICK  STALLINGS\n",
              "162      163      MICHAEL HOUCK  SOUTHAVEN    MD  11729    MICHAEL      HOUCK\n",
              "164      165        JAMES HEITZ      JENKS    MD  93727      JAMES      HEITZ\n",
              "184      185          JOE ALERS   NEW BERN    MD   3031        JOE      ALERS\n",
              "185      186         USA PEGORS  EL DORADO    MD  97504        USA     PEGORS"
            ]
          },
          "metadata": {},
          "execution_count": 57
        }
      ]
    }
  ]
}